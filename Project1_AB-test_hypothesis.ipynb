{
 "cells": [
  {
   "cell_type": "markdown",
   "metadata": {},
   "source": [
    "# Принятие решений в бизнесе"
   ]
  },
  {
   "cell_type": "markdown",
   "metadata": {},
   "source": [
    "В нашем распоряжении три датасета. \n",
    "\n",
    "- В файле `hypothesis.csv` 9 гипотез по увеличению выручки интернет-магазина с указанными параметрами `Reach`, `Impact`, `Confidence`, `Effort`.\n",
    "- Файл `orders.csv` содержит информацию о заказах.\n",
    "- Файл `visitors.csv` — информацию о пользователях.\n",
    "\n",
    "Задача - подготовить список гипотез для увеличения выручки.\n",
    "\n",
    "Приоритизируем гипотезы, запустим A/B-тест и проанализируем результаты."
   ]
  },
  {
   "cell_type": "markdown",
   "metadata": {
    "toc": true
   },
   "source": [
    "<h1>Оглавление:<span class=\"tocSkip\"></span></h1>\n",
    "<div class=\"toc\"><ul class=\"toc-item\"><li><span><a href=\"#Загрузка-данных-и-подготовка-к-анализу\" data-toc-modified-id=\"Загрузка-данных-и-подготовка-к-анализу-1\"><span class=\"toc-item-num\">1&nbsp;&nbsp;</span>Загрузка данных и подготовка к анализу</a></span><ul class=\"toc-item\"><li><span><a href=\"#Импортирование-библиотек\" data-toc-modified-id=\"Импортирование-библиотек-1.1\"><span class=\"toc-item-num\">1.1&nbsp;&nbsp;</span>Импортирование библиотек</a></span></li><li><span><a href=\"#Ознакомление-с-таблицами\" data-toc-modified-id=\"Ознакомление-с-таблицами-1.2\"><span class=\"toc-item-num\">1.2&nbsp;&nbsp;</span>Ознакомление с таблицами</a></span></li></ul></li><li><span><a href=\"#Приоритизация-гипотез\" data-toc-modified-id=\"Приоритизация-гипотез-2\"><span class=\"toc-item-num\">2&nbsp;&nbsp;</span>Приоритизация гипотез</a></span><ul class=\"toc-item\"><li><span><a href=\"#Фреймворк-ICE\" data-toc-modified-id=\"Фреймворк-ICE-2.1\"><span class=\"toc-item-num\">2.1&nbsp;&nbsp;</span>Фреймворк ICE</a></span></li><li><span><a href=\"#Фреймворк-RICE\" data-toc-modified-id=\"Фреймворк-RICE-2.2\"><span class=\"toc-item-num\">2.2&nbsp;&nbsp;</span>Фреймворк RICE</a></span></li><li><span><a href=\"#Различия-в-очередности-проверки-гипотез\" data-toc-modified-id=\"Различия-в-очередности-проверки-гипотез-2.3\"><span class=\"toc-item-num\">2.3&nbsp;&nbsp;</span>Различия в очередности проверки гипотез</a></span></li></ul></li><li><span><a href=\"#Анализ-A/B-теста\" data-toc-modified-id=\"Анализ-A/B-теста-3\"><span class=\"toc-item-num\">3&nbsp;&nbsp;</span>Анализ A/B-теста</a></span><ul class=\"toc-item\"><li><span><a href=\"#Графики-кумулятивной-выручки-по-дням-по-группам\" data-toc-modified-id=\"Графики-кумулятивной-выручки-по-дням-по-группам-3.1\"><span class=\"toc-item-num\">3.1&nbsp;&nbsp;</span>Графики кумулятивной выручки по дням по группам</a></span></li><li><span><a href=\"#Графики-кумулятивного-среднего-чека-по-дням-для-каждой-группы\" data-toc-modified-id=\"Графики-кумулятивного-среднего-чека-по-дням-для-каждой-группы-3.2\"><span class=\"toc-item-num\">3.2&nbsp;&nbsp;</span>Графики кумулятивного среднего чека по дням для каждой группы</a></span></li><li><span><a href=\"#График-относительного-изменения-кумулятивного-среднего-чека-группы-B-к-группе-A\" data-toc-modified-id=\"График-относительного-изменения-кумулятивного-среднего-чека-группы-B-к-группе-A-3.3\"><span class=\"toc-item-num\">3.3&nbsp;&nbsp;</span>График относительного изменения кумулятивного среднего чека группы B к группе A</a></span></li><li><span><a href=\"#График-кумулятивного-среднего-количества-заказов-на-посетителя-по-группам\" data-toc-modified-id=\"График-кумулятивного-среднего-количества-заказов-на-посетителя-по-группам-3.4\"><span class=\"toc-item-num\">3.4&nbsp;&nbsp;</span>График кумулятивного среднего количества заказов на посетителя по группам</a></span></li><li><span><a href=\"#График-относительного-изменения-кумулятивного-среднего-количества-заказов-на-посетителя-группы-B-к-группе-A\" data-toc-modified-id=\"График-относительного-изменения-кумулятивного-среднего-количества-заказов-на-посетителя-группы-B-к-группе-A-3.5\"><span class=\"toc-item-num\">3.5&nbsp;&nbsp;</span>График относительного изменения кумулятивного среднего количества заказов на посетителя группы B к группе A</a></span></li><li><span><a href=\"#Точечный-график-количества-заказов-по-пользователям\" data-toc-modified-id=\"Точечный-график-количества-заказов-по-пользователям-3.6\"><span class=\"toc-item-num\">3.6&nbsp;&nbsp;</span>Точечный график количества заказов по пользователям</a></span></li><li><span><a href=\"#95-й-и-99-й-перцентили-количества-заказов-на-пользователя\" data-toc-modified-id=\"95-й-и-99-й-перцентили-количества-заказов-на-пользователя-3.7\"><span class=\"toc-item-num\">3.7&nbsp;&nbsp;</span>95-й и 99-й перцентили количества заказов на пользователя</a></span></li><li><span><a href=\"#График-стоимостей-заказов\" data-toc-modified-id=\"График-стоимостей-заказов-3.8\"><span class=\"toc-item-num\">3.8&nbsp;&nbsp;</span>График стоимостей заказов</a></span></li><li><span><a href=\"#95-й-и-99-й-перцентили-стоимости-заказов\" data-toc-modified-id=\"95-й-и-99-й-перцентили-стоимости-заказов-3.9\"><span class=\"toc-item-num\">3.9&nbsp;&nbsp;</span>95-й и 99-й перцентили стоимости заказов</a></span></li><li><span><a href=\"#Статистическая-значимость-различий-в-среднем-количестве-заказов-на-посетителя-между-группами-по-«сырым»-данным\" data-toc-modified-id=\"Статистическая-значимость-различий-в-среднем-количестве-заказов-на-посетителя-между-группами-по-«сырым»-данным-3.10\"><span class=\"toc-item-num\">3.10&nbsp;&nbsp;</span>Статистическая значимость различий в среднем количестве заказов на посетителя между группами по «сырым» данным</a></span></li><li><span><a href=\"#Статистическая-значимость-различий-в-среднем-чеке-заказа-между-группами-по-«сырым»-данным\" data-toc-modified-id=\"Статистическая-значимость-различий-в-среднем-чеке-заказа-между-группами-по-«сырым»-данным-3.11\"><span class=\"toc-item-num\">3.11&nbsp;&nbsp;</span>Статистическая значимость различий в среднем чеке заказа между группами по «сырым» данным</a></span></li><li><span><a href=\"#Статистическая-значимость-различий-в-среднем-количестве-заказов-на-посетителя-между-группами-по-«очищенным»-данным\" data-toc-modified-id=\"Статистическая-значимость-различий-в-среднем-количестве-заказов-на-посетителя-между-группами-по-«очищенным»-данным-3.12\"><span class=\"toc-item-num\">3.12&nbsp;&nbsp;</span>Статистическая значимость различий в среднем количестве заказов на посетителя между группами по «очищенным» данным</a></span></li><li><span><a href=\"#Статистическая-значимость-различий-в-среднем-чеке-заказа-между-группами-по-«очищенным»-данным\" data-toc-modified-id=\"Статистическая-значимость-различий-в-среднем-чеке-заказа-между-группами-по-«очищенным»-данным-3.13\"><span class=\"toc-item-num\">3.13&nbsp;&nbsp;</span>Статистическая значимость различий в среднем чеке заказа между группами по «очищенным» данным</a></span></li><li><span><a href=\"#Решение-по-результатам-теста\" data-toc-modified-id=\"Решение-по-результатам-теста-3.14\"><span class=\"toc-item-num\">3.14&nbsp;&nbsp;</span>Решение по результатам теста</a></span></li></ul></li><li><span><a href=\"#Вывод\" data-toc-modified-id=\"Вывод-4\"><span class=\"toc-item-num\">4&nbsp;&nbsp;</span>Вывод</a></span></li></ul></div>"
   ]
  },
  {
   "cell_type": "markdown",
   "metadata": {},
   "source": [
    "## Загрузка данных и подготовка к анализу"
   ]
  },
  {
   "cell_type": "markdown",
   "metadata": {},
   "source": [
    "Ознакомимся с датасетами и выполним предобработку."
   ]
  },
  {
   "cell_type": "markdown",
   "metadata": {},
   "source": [
    "### Импортирование библиотек"
   ]
  },
  {
   "cell_type": "code",
   "execution_count": 1,
   "metadata": {},
   "outputs": [],
   "source": [
    "import pandas as pd\n",
    "import datetime as dt\n",
    "import numpy as np\n",
    "import scipy.stats as stats\n",
    "from matplotlib import pyplot as plt"
   ]
  },
  {
   "cell_type": "markdown",
   "metadata": {},
   "source": [
    "### Ознакомление с таблицами"
   ]
  },
  {
   "cell_type": "code",
   "execution_count": 2,
   "metadata": {},
   "outputs": [],
   "source": [
    "pd.set_option('display.max_colwidth', None)\n",
    "pd.set_option('display.max_columns', None)\n",
    "plt.style.use('bmh')"
   ]
  },
  {
   "cell_type": "code",
   "execution_count": 3,
   "metadata": {},
   "outputs": [],
   "source": [
    "hypothesis, orders, visitors = (\n",
    "    pd.read_csv('hypothesis.csv'),\n",
    "    pd.read_csv('orders.csv'),\n",
    "    pd.read_csv('visitors.csv')\n",
    ")"
   ]
  },
  {
   "cell_type": "markdown",
   "metadata": {},
   "source": [
    "**Hypothesis**"
   ]
  },
  {
   "cell_type": "code",
   "execution_count": 4,
   "metadata": {},
   "outputs": [
    {
     "data": {
      "text/html": [
       "<div>\n",
       "<style scoped>\n",
       "    .dataframe tbody tr th:only-of-type {\n",
       "        vertical-align: middle;\n",
       "    }\n",
       "\n",
       "    .dataframe tbody tr th {\n",
       "        vertical-align: top;\n",
       "    }\n",
       "\n",
       "    .dataframe thead th {\n",
       "        text-align: right;\n",
       "    }\n",
       "</style>\n",
       "<table border=\"1\" class=\"dataframe\">\n",
       "  <thead>\n",
       "    <tr style=\"text-align: right;\">\n",
       "      <th></th>\n",
       "      <th>hypothesis</th>\n",
       "      <th>reach</th>\n",
       "      <th>impact</th>\n",
       "      <th>confidence</th>\n",
       "      <th>efforts</th>\n",
       "    </tr>\n",
       "  </thead>\n",
       "  <tbody>\n",
       "    <tr>\n",
       "      <th>0</th>\n",
       "      <td>Добавить два новых канала привлечения трафика, что позволит привлекать на 30% больше пользователей</td>\n",
       "      <td>3</td>\n",
       "      <td>10</td>\n",
       "      <td>8</td>\n",
       "      <td>6</td>\n",
       "    </tr>\n",
       "    <tr>\n",
       "      <th>1</th>\n",
       "      <td>Запустить собственную службу доставки, что сократит срок доставки заказов</td>\n",
       "      <td>2</td>\n",
       "      <td>5</td>\n",
       "      <td>4</td>\n",
       "      <td>10</td>\n",
       "    </tr>\n",
       "    <tr>\n",
       "      <th>2</th>\n",
       "      <td>Добавить блоки рекомендаций товаров на сайт интернет магазина, чтобы повысить конверсию и средний чек заказа</td>\n",
       "      <td>8</td>\n",
       "      <td>3</td>\n",
       "      <td>7</td>\n",
       "      <td>3</td>\n",
       "    </tr>\n",
       "    <tr>\n",
       "      <th>3</th>\n",
       "      <td>Изменить структура категорий, что увеличит конверсию, т.к. пользователи быстрее найдут нужный товар</td>\n",
       "      <td>8</td>\n",
       "      <td>3</td>\n",
       "      <td>3</td>\n",
       "      <td>8</td>\n",
       "    </tr>\n",
       "    <tr>\n",
       "      <th>4</th>\n",
       "      <td>Изменить цвет фона главной страницы, чтобы увеличить вовлеченность пользователей</td>\n",
       "      <td>3</td>\n",
       "      <td>1</td>\n",
       "      <td>1</td>\n",
       "      <td>1</td>\n",
       "    </tr>\n",
       "    <tr>\n",
       "      <th>5</th>\n",
       "      <td>Добавить страницу отзывов клиентов о магазине, что позволит увеличить количество заказов</td>\n",
       "      <td>3</td>\n",
       "      <td>2</td>\n",
       "      <td>2</td>\n",
       "      <td>3</td>\n",
       "    </tr>\n",
       "    <tr>\n",
       "      <th>6</th>\n",
       "      <td>Показать на главной странице баннеры с актуальными акциями и распродажами, чтобы увеличить конверсию</td>\n",
       "      <td>5</td>\n",
       "      <td>3</td>\n",
       "      <td>8</td>\n",
       "      <td>3</td>\n",
       "    </tr>\n",
       "    <tr>\n",
       "      <th>7</th>\n",
       "      <td>Добавить форму подписки на все основные страницы, чтобы собрать базу клиентов для email-рассылок</td>\n",
       "      <td>10</td>\n",
       "      <td>7</td>\n",
       "      <td>8</td>\n",
       "      <td>5</td>\n",
       "    </tr>\n",
       "    <tr>\n",
       "      <th>8</th>\n",
       "      <td>Запустить акцию, дающую скидку на товар в день рождения</td>\n",
       "      <td>1</td>\n",
       "      <td>9</td>\n",
       "      <td>9</td>\n",
       "      <td>5</td>\n",
       "    </tr>\n",
       "  </tbody>\n",
       "</table>\n",
       "</div>"
      ],
      "text/plain": [
       "                                                                                                     hypothesis  \\\n",
       "0            Добавить два новых канала привлечения трафика, что позволит привлекать на 30% больше пользователей   \n",
       "1                                     Запустить собственную службу доставки, что сократит срок доставки заказов   \n",
       "2  Добавить блоки рекомендаций товаров на сайт интернет магазина, чтобы повысить конверсию и средний чек заказа   \n",
       "3           Изменить структура категорий, что увеличит конверсию, т.к. пользователи быстрее найдут нужный товар   \n",
       "4                              Изменить цвет фона главной страницы, чтобы увеличить вовлеченность пользователей   \n",
       "5                      Добавить страницу отзывов клиентов о магазине, что позволит увеличить количество заказов   \n",
       "6          Показать на главной странице баннеры с актуальными акциями и распродажами, чтобы увеличить конверсию   \n",
       "7              Добавить форму подписки на все основные страницы, чтобы собрать базу клиентов для email-рассылок   \n",
       "8                                                       Запустить акцию, дающую скидку на товар в день рождения   \n",
       "\n",
       "   reach  impact  confidence  efforts  \n",
       "0      3      10           8        6  \n",
       "1      2       5           4       10  \n",
       "2      8       3           7        3  \n",
       "3      8       3           3        8  \n",
       "4      3       1           1        1  \n",
       "5      3       2           2        3  \n",
       "6      5       3           8        3  \n",
       "7     10       7           8        5  \n",
       "8      1       9           9        5  "
      ]
     },
     "metadata": {},
     "output_type": "display_data"
    },
    {
     "name": "stdout",
     "output_type": "stream",
     "text": [
      "<class 'pandas.core.frame.DataFrame'>\n",
      "RangeIndex: 9 entries, 0 to 8\n",
      "Data columns (total 5 columns):\n",
      " #   Column      Non-Null Count  Dtype \n",
      "---  ------      --------------  ----- \n",
      " 0   hypothesis  9 non-null      object\n",
      " 1   reach       9 non-null      int64 \n",
      " 2   impact      9 non-null      int64 \n",
      " 3   confidence  9 non-null      int64 \n",
      " 4   efforts     9 non-null      int64 \n",
      "dtypes: int64(4), object(1)\n",
      "memory usage: 488.0+ bytes\n"
     ]
    }
   ],
   "source": [
    "hypothesis.columns = [x.lower().replace(' ', '_') for x in hypothesis.columns.values]\n",
    "display(hypothesis.head(10))\n",
    "hypothesis.info()"
   ]
  },
  {
   "cell_type": "markdown",
   "metadata": {},
   "source": [
    "**Orders**"
   ]
  },
  {
   "cell_type": "code",
   "execution_count": 5,
   "metadata": {},
   "outputs": [
    {
     "data": {
      "text/html": [
       "<div>\n",
       "<style scoped>\n",
       "    .dataframe tbody tr th:only-of-type {\n",
       "        vertical-align: middle;\n",
       "    }\n",
       "\n",
       "    .dataframe tbody tr th {\n",
       "        vertical-align: top;\n",
       "    }\n",
       "\n",
       "    .dataframe thead th {\n",
       "        text-align: right;\n",
       "    }\n",
       "</style>\n",
       "<table border=\"1\" class=\"dataframe\">\n",
       "  <thead>\n",
       "    <tr style=\"text-align: right;\">\n",
       "      <th></th>\n",
       "      <th>transaction_id</th>\n",
       "      <th>visitor_id</th>\n",
       "      <th>date</th>\n",
       "      <th>revenue</th>\n",
       "      <th>group</th>\n",
       "    </tr>\n",
       "  </thead>\n",
       "  <tbody>\n",
       "    <tr>\n",
       "      <th>0</th>\n",
       "      <td>3667963787</td>\n",
       "      <td>3312258926</td>\n",
       "      <td>2019-08-15</td>\n",
       "      <td>1650</td>\n",
       "      <td>B</td>\n",
       "    </tr>\n",
       "    <tr>\n",
       "      <th>1</th>\n",
       "      <td>2804400009</td>\n",
       "      <td>3642806036</td>\n",
       "      <td>2019-08-15</td>\n",
       "      <td>730</td>\n",
       "      <td>B</td>\n",
       "    </tr>\n",
       "    <tr>\n",
       "      <th>2</th>\n",
       "      <td>2961555356</td>\n",
       "      <td>4069496402</td>\n",
       "      <td>2019-08-15</td>\n",
       "      <td>400</td>\n",
       "      <td>A</td>\n",
       "    </tr>\n",
       "    <tr>\n",
       "      <th>3</th>\n",
       "      <td>3797467345</td>\n",
       "      <td>1196621759</td>\n",
       "      <td>2019-08-15</td>\n",
       "      <td>9759</td>\n",
       "      <td>B</td>\n",
       "    </tr>\n",
       "    <tr>\n",
       "      <th>4</th>\n",
       "      <td>2282983706</td>\n",
       "      <td>2322279887</td>\n",
       "      <td>2019-08-15</td>\n",
       "      <td>2308</td>\n",
       "      <td>B</td>\n",
       "    </tr>\n",
       "    <tr>\n",
       "      <th>5</th>\n",
       "      <td>182168103</td>\n",
       "      <td>935554773</td>\n",
       "      <td>2019-08-15</td>\n",
       "      <td>2210</td>\n",
       "      <td>B</td>\n",
       "    </tr>\n",
       "    <tr>\n",
       "      <th>6</th>\n",
       "      <td>398296753</td>\n",
       "      <td>2900797465</td>\n",
       "      <td>2019-08-15</td>\n",
       "      <td>1860</td>\n",
       "      <td>B</td>\n",
       "    </tr>\n",
       "    <tr>\n",
       "      <th>7</th>\n",
       "      <td>2626614568</td>\n",
       "      <td>78758296</td>\n",
       "      <td>2019-08-15</td>\n",
       "      <td>1044</td>\n",
       "      <td>A</td>\n",
       "    </tr>\n",
       "    <tr>\n",
       "      <th>8</th>\n",
       "      <td>1576988021</td>\n",
       "      <td>295230930</td>\n",
       "      <td>2019-08-15</td>\n",
       "      <td>13710</td>\n",
       "      <td>A</td>\n",
       "    </tr>\n",
       "    <tr>\n",
       "      <th>9</th>\n",
       "      <td>1506739906</td>\n",
       "      <td>1882260405</td>\n",
       "      <td>2019-08-15</td>\n",
       "      <td>1855</td>\n",
       "      <td>B</td>\n",
       "    </tr>\n",
       "  </tbody>\n",
       "</table>\n",
       "</div>"
      ],
      "text/plain": [
       "   transaction_id  visitor_id        date  revenue group\n",
       "0      3667963787  3312258926  2019-08-15     1650     B\n",
       "1      2804400009  3642806036  2019-08-15      730     B\n",
       "2      2961555356  4069496402  2019-08-15      400     A\n",
       "3      3797467345  1196621759  2019-08-15     9759     B\n",
       "4      2282983706  2322279887  2019-08-15     2308     B\n",
       "5       182168103   935554773  2019-08-15     2210     B\n",
       "6       398296753  2900797465  2019-08-15     1860     B\n",
       "7      2626614568    78758296  2019-08-15     1044     A\n",
       "8      1576988021   295230930  2019-08-15    13710     A\n",
       "9      1506739906  1882260405  2019-08-15     1855     B"
      ]
     },
     "metadata": {},
     "output_type": "display_data"
    },
    {
     "name": "stdout",
     "output_type": "stream",
     "text": [
      "<class 'pandas.core.frame.DataFrame'>\n",
      "RangeIndex: 1197 entries, 0 to 1196\n",
      "Data columns (total 5 columns):\n",
      " #   Column          Non-Null Count  Dtype \n",
      "---  ------          --------------  ----- \n",
      " 0   transaction_id  1197 non-null   int64 \n",
      " 1   visitor_id      1197 non-null   int64 \n",
      " 2   date            1197 non-null   object\n",
      " 3   revenue         1197 non-null   int64 \n",
      " 4   group           1197 non-null   object\n",
      "dtypes: int64(3), object(2)\n",
      "memory usage: 46.9+ KB\n"
     ]
    }
   ],
   "source": [
    "orders.columns = [x.lower().replace(' ', '_') for x in orders.columns.values]\n",
    "orders.rename(columns = {\"transactionid\": \"transaction_id\",\n",
    "                    \"visitorid\": \"visitor_id\"}, \n",
    "          inplace = True)\n",
    "display(orders.head(10))\n",
    "orders.info()"
   ]
  },
  {
   "cell_type": "markdown",
   "metadata": {},
   "source": [
    "    Изменим тип данных в столбце \"date\" на datetime."
   ]
  },
  {
   "cell_type": "code",
   "execution_count": 6,
   "metadata": {},
   "outputs": [],
   "source": [
    "orders['date'] = pd.to_datetime(orders['date'])"
   ]
  },
  {
   "cell_type": "markdown",
   "metadata": {},
   "source": [
    "    Проверим количество групп в A/B-тесте."
   ]
  },
  {
   "cell_type": "code",
   "execution_count": 7,
   "metadata": {},
   "outputs": [
    {
     "data": {
      "text/plain": [
       "array(['B', 'A'], dtype=object)"
      ]
     },
     "execution_count": 7,
     "metadata": {},
     "output_type": "execute_result"
    }
   ],
   "source": [
    "orders['group'].unique()"
   ]
  },
  {
   "cell_type": "markdown",
   "metadata": {},
   "source": [
    "    Проверим минимальную и максимальную даты привлечения."
   ]
  },
  {
   "cell_type": "code",
   "execution_count": 8,
   "metadata": {},
   "outputs": [
    {
     "data": {
      "text/plain": [
       "Timestamp('2019-08-01 00:00:00')"
      ]
     },
     "execution_count": 8,
     "metadata": {},
     "output_type": "execute_result"
    }
   ],
   "source": [
    "orders['date'].min()"
   ]
  },
  {
   "cell_type": "code",
   "execution_count": 9,
   "metadata": {},
   "outputs": [
    {
     "data": {
      "text/plain": [
       "Timestamp('2019-08-31 00:00:00')"
      ]
     },
     "execution_count": 9,
     "metadata": {},
     "output_type": "execute_result"
    }
   ],
   "source": [
    "orders['date'].max()"
   ]
  },
  {
   "cell_type": "markdown",
   "metadata": {},
   "source": [
    "Временной промежуток от 1 августа 2019 до 31 августа 2019."
   ]
  },
  {
   "cell_type": "markdown",
   "metadata": {},
   "source": [
    "    Посмотрим на распределение пользователей в каждой группе."
   ]
  },
  {
   "cell_type": "code",
   "execution_count": 10,
   "metadata": {},
   "outputs": [
    {
     "data": {
      "text/plain": [
       "group\n",
       "A    557\n",
       "B    640\n",
       "Name: visitor_id, dtype: int64"
      ]
     },
     "execution_count": 10,
     "metadata": {},
     "output_type": "execute_result"
    }
   ],
   "source": [
    "orders.groupby('group')['visitor_id'].count()"
   ]
  },
  {
   "cell_type": "markdown",
   "metadata": {},
   "source": [
    "Распределение пользователей по группам примерно равное."
   ]
  },
  {
   "cell_type": "markdown",
   "metadata": {},
   "source": [
    "    Проверим, присутствуют ли пользователи, состоящие в обеих группах."
   ]
  },
  {
   "cell_type": "code",
   "execution_count": 11,
   "metadata": {},
   "outputs": [
    {
     "data": {
      "text/plain": [
       "58"
      ]
     },
     "execution_count": 11,
     "metadata": {},
     "output_type": "execute_result"
    }
   ],
   "source": [
    "len(np.intersect1d(orders.query('group == \"A\"')['visitor_id'], orders.query(\n",
    "'group == \"B\"')['visitor_id'], assume_unique = False))"
   ]
  },
  {
   "cell_type": "markdown",
   "metadata": {},
   "source": [
    "Пользователей, присутствующих не так много, поэтому оставим их как есть."
   ]
  },
  {
   "cell_type": "code",
   "execution_count": 12,
   "metadata": {},
   "outputs": [
    {
     "name": "stdout",
     "output_type": "stream",
     "text": [
      "<class 'pandas.core.frame.DataFrame'>\n",
      "RangeIndex: 1197 entries, 0 to 1196\n",
      "Data columns (total 5 columns):\n",
      " #   Column          Non-Null Count  Dtype         \n",
      "---  ------          --------------  -----         \n",
      " 0   transaction_id  1197 non-null   int64         \n",
      " 1   visitor_id      1197 non-null   int64         \n",
      " 2   date            1197 non-null   datetime64[ns]\n",
      " 3   revenue         1197 non-null   int64         \n",
      " 4   group           1197 non-null   object        \n",
      "dtypes: datetime64[ns](1), int64(3), object(1)\n",
      "memory usage: 46.9+ KB\n"
     ]
    }
   ],
   "source": [
    "orders.info()"
   ]
  },
  {
   "cell_type": "markdown",
   "metadata": {},
   "source": [
    "**Visitors**"
   ]
  },
  {
   "cell_type": "code",
   "execution_count": 13,
   "metadata": {},
   "outputs": [
    {
     "data": {
      "text/html": [
       "<div>\n",
       "<style scoped>\n",
       "    .dataframe tbody tr th:only-of-type {\n",
       "        vertical-align: middle;\n",
       "    }\n",
       "\n",
       "    .dataframe tbody tr th {\n",
       "        vertical-align: top;\n",
       "    }\n",
       "\n",
       "    .dataframe thead th {\n",
       "        text-align: right;\n",
       "    }\n",
       "</style>\n",
       "<table border=\"1\" class=\"dataframe\">\n",
       "  <thead>\n",
       "    <tr style=\"text-align: right;\">\n",
       "      <th></th>\n",
       "      <th>date</th>\n",
       "      <th>group</th>\n",
       "      <th>visitors</th>\n",
       "    </tr>\n",
       "  </thead>\n",
       "  <tbody>\n",
       "    <tr>\n",
       "      <th>0</th>\n",
       "      <td>2019-08-01</td>\n",
       "      <td>A</td>\n",
       "      <td>719</td>\n",
       "    </tr>\n",
       "    <tr>\n",
       "      <th>1</th>\n",
       "      <td>2019-08-02</td>\n",
       "      <td>A</td>\n",
       "      <td>619</td>\n",
       "    </tr>\n",
       "    <tr>\n",
       "      <th>2</th>\n",
       "      <td>2019-08-03</td>\n",
       "      <td>A</td>\n",
       "      <td>507</td>\n",
       "    </tr>\n",
       "    <tr>\n",
       "      <th>3</th>\n",
       "      <td>2019-08-04</td>\n",
       "      <td>A</td>\n",
       "      <td>717</td>\n",
       "    </tr>\n",
       "    <tr>\n",
       "      <th>4</th>\n",
       "      <td>2019-08-05</td>\n",
       "      <td>A</td>\n",
       "      <td>756</td>\n",
       "    </tr>\n",
       "    <tr>\n",
       "      <th>5</th>\n",
       "      <td>2019-08-06</td>\n",
       "      <td>A</td>\n",
       "      <td>667</td>\n",
       "    </tr>\n",
       "    <tr>\n",
       "      <th>6</th>\n",
       "      <td>2019-08-07</td>\n",
       "      <td>A</td>\n",
       "      <td>644</td>\n",
       "    </tr>\n",
       "    <tr>\n",
       "      <th>7</th>\n",
       "      <td>2019-08-08</td>\n",
       "      <td>A</td>\n",
       "      <td>610</td>\n",
       "    </tr>\n",
       "    <tr>\n",
       "      <th>8</th>\n",
       "      <td>2019-08-09</td>\n",
       "      <td>A</td>\n",
       "      <td>617</td>\n",
       "    </tr>\n",
       "    <tr>\n",
       "      <th>9</th>\n",
       "      <td>2019-08-10</td>\n",
       "      <td>A</td>\n",
       "      <td>406</td>\n",
       "    </tr>\n",
       "  </tbody>\n",
       "</table>\n",
       "</div>"
      ],
      "text/plain": [
       "         date group  visitors\n",
       "0  2019-08-01     A       719\n",
       "1  2019-08-02     A       619\n",
       "2  2019-08-03     A       507\n",
       "3  2019-08-04     A       717\n",
       "4  2019-08-05     A       756\n",
       "5  2019-08-06     A       667\n",
       "6  2019-08-07     A       644\n",
       "7  2019-08-08     A       610\n",
       "8  2019-08-09     A       617\n",
       "9  2019-08-10     A       406"
      ]
     },
     "metadata": {},
     "output_type": "display_data"
    },
    {
     "name": "stdout",
     "output_type": "stream",
     "text": [
      "<class 'pandas.core.frame.DataFrame'>\n",
      "RangeIndex: 62 entries, 0 to 61\n",
      "Data columns (total 3 columns):\n",
      " #   Column    Non-Null Count  Dtype \n",
      "---  ------    --------------  ----- \n",
      " 0   date      62 non-null     object\n",
      " 1   group     62 non-null     object\n",
      " 2   visitors  62 non-null     int64 \n",
      "dtypes: int64(1), object(2)\n",
      "memory usage: 1.6+ KB\n"
     ]
    }
   ],
   "source": [
    "display(visitors.head(10))\n",
    "visitors.info()"
   ]
  },
  {
   "cell_type": "markdown",
   "metadata": {},
   "source": [
    "    Изменим тип данных в столбце \"date\" на datetime."
   ]
  },
  {
   "cell_type": "code",
   "execution_count": 14,
   "metadata": {},
   "outputs": [],
   "source": [
    "visitors['date'] = pd.to_datetime(visitors['date'])"
   ]
  },
  {
   "cell_type": "markdown",
   "metadata": {},
   "source": [
    "    Проверим количество групп в A/B-тесте."
   ]
  },
  {
   "cell_type": "code",
   "execution_count": 15,
   "metadata": {},
   "outputs": [
    {
     "data": {
      "text/plain": [
       "array(['A', 'B'], dtype=object)"
      ]
     },
     "execution_count": 15,
     "metadata": {},
     "output_type": "execute_result"
    }
   ],
   "source": [
    "visitors['group'].unique()"
   ]
  },
  {
   "cell_type": "markdown",
   "metadata": {},
   "source": [
    "    Проверим минимальную и максимальную даты привлечения."
   ]
  },
  {
   "cell_type": "code",
   "execution_count": 16,
   "metadata": {},
   "outputs": [
    {
     "data": {
      "text/plain": [
       "Timestamp('2019-08-01 00:00:00')"
      ]
     },
     "execution_count": 16,
     "metadata": {},
     "output_type": "execute_result"
    }
   ],
   "source": [
    "visitors['date'].min()"
   ]
  },
  {
   "cell_type": "code",
   "execution_count": 17,
   "metadata": {},
   "outputs": [
    {
     "data": {
      "text/plain": [
       "Timestamp('2019-08-31 00:00:00')"
      ]
     },
     "execution_count": 17,
     "metadata": {},
     "output_type": "execute_result"
    }
   ],
   "source": [
    "visitors['date'].max()"
   ]
  },
  {
   "cell_type": "markdown",
   "metadata": {},
   "source": [
    "Временной промежуток от 1 августа 2019 до 31 августа 2019."
   ]
  },
  {
   "cell_type": "markdown",
   "metadata": {},
   "source": [
    "    Посмотрим на распределение пользователей в каждой группе."
   ]
  },
  {
   "cell_type": "code",
   "execution_count": 18,
   "metadata": {},
   "outputs": [
    {
     "data": {
      "text/plain": [
       "group\n",
       "A    18736\n",
       "B    18916\n",
       "Name: visitors, dtype: int64"
      ]
     },
     "execution_count": 18,
     "metadata": {},
     "output_type": "execute_result"
    }
   ],
   "source": [
    "visitors.groupby('group')['visitors'].sum()"
   ]
  },
  {
   "cell_type": "markdown",
   "metadata": {},
   "source": [
    "Распределение пользователей по группам примерно равное."
   ]
  },
  {
   "cell_type": "code",
   "execution_count": 19,
   "metadata": {},
   "outputs": [
    {
     "name": "stdout",
     "output_type": "stream",
     "text": [
      "<class 'pandas.core.frame.DataFrame'>\n",
      "RangeIndex: 62 entries, 0 to 61\n",
      "Data columns (total 3 columns):\n",
      " #   Column    Non-Null Count  Dtype         \n",
      "---  ------    --------------  -----         \n",
      " 0   date      62 non-null     datetime64[ns]\n",
      " 1   group     62 non-null     object        \n",
      " 2   visitors  62 non-null     int64         \n",
      "dtypes: datetime64[ns](1), int64(1), object(1)\n",
      "memory usage: 1.6+ KB\n"
     ]
    }
   ],
   "source": [
    "visitors.info()"
   ]
  },
  {
   "cell_type": "markdown",
   "metadata": {},
   "source": [
    "## Приоритизация гипотез"
   ]
  },
  {
   "cell_type": "markdown",
   "metadata": {},
   "source": [
    "- Применим фреймворк ICE для приоритизации гипотез. Отсортируем их по убыванию приоритета.\n",
    "- Применим фреймворк RICE для приоритизации гипотез. Отсортируем их по убыванию приоритета.\n",
    "- Укажем, как изменилась приоритизация гипотез при применении RICE вместо ICE."
   ]
  },
  {
   "cell_type": "markdown",
   "metadata": {},
   "source": [
    "###  Фреймворк ICE "
   ]
  },
  {
   "cell_type": "code",
   "execution_count": 20,
   "metadata": {},
   "outputs": [
    {
     "data": {
      "text/html": [
       "<div>\n",
       "<style scoped>\n",
       "    .dataframe tbody tr th:only-of-type {\n",
       "        vertical-align: middle;\n",
       "    }\n",
       "\n",
       "    .dataframe tbody tr th {\n",
       "        vertical-align: top;\n",
       "    }\n",
       "\n",
       "    .dataframe thead th {\n",
       "        text-align: right;\n",
       "    }\n",
       "</style>\n",
       "<table border=\"1\" class=\"dataframe\">\n",
       "  <thead>\n",
       "    <tr style=\"text-align: right;\">\n",
       "      <th></th>\n",
       "      <th>hypothesis</th>\n",
       "      <th>ICE</th>\n",
       "    </tr>\n",
       "  </thead>\n",
       "  <tbody>\n",
       "    <tr>\n",
       "      <th>8</th>\n",
       "      <td>Запустить акцию, дающую скидку на товар в день рождения</td>\n",
       "      <td>16.200000</td>\n",
       "    </tr>\n",
       "    <tr>\n",
       "      <th>0</th>\n",
       "      <td>Добавить два новых канала привлечения трафика, что позволит привлекать на 30% больше пользователей</td>\n",
       "      <td>13.333333</td>\n",
       "    </tr>\n",
       "    <tr>\n",
       "      <th>7</th>\n",
       "      <td>Добавить форму подписки на все основные страницы, чтобы собрать базу клиентов для email-рассылок</td>\n",
       "      <td>11.200000</td>\n",
       "    </tr>\n",
       "    <tr>\n",
       "      <th>6</th>\n",
       "      <td>Показать на главной странице баннеры с актуальными акциями и распродажами, чтобы увеличить конверсию</td>\n",
       "      <td>8.000000</td>\n",
       "    </tr>\n",
       "    <tr>\n",
       "      <th>2</th>\n",
       "      <td>Добавить блоки рекомендаций товаров на сайт интернет магазина, чтобы повысить конверсию и средний чек заказа</td>\n",
       "      <td>7.000000</td>\n",
       "    </tr>\n",
       "    <tr>\n",
       "      <th>1</th>\n",
       "      <td>Запустить собственную службу доставки, что сократит срок доставки заказов</td>\n",
       "      <td>2.000000</td>\n",
       "    </tr>\n",
       "    <tr>\n",
       "      <th>5</th>\n",
       "      <td>Добавить страницу отзывов клиентов о магазине, что позволит увеличить количество заказов</td>\n",
       "      <td>1.333333</td>\n",
       "    </tr>\n",
       "    <tr>\n",
       "      <th>3</th>\n",
       "      <td>Изменить структура категорий, что увеличит конверсию, т.к. пользователи быстрее найдут нужный товар</td>\n",
       "      <td>1.125000</td>\n",
       "    </tr>\n",
       "    <tr>\n",
       "      <th>4</th>\n",
       "      <td>Изменить цвет фона главной страницы, чтобы увеличить вовлеченность пользователей</td>\n",
       "      <td>1.000000</td>\n",
       "    </tr>\n",
       "  </tbody>\n",
       "</table>\n",
       "</div>"
      ],
      "text/plain": [
       "                                                                                                     hypothesis  \\\n",
       "8                                                       Запустить акцию, дающую скидку на товар в день рождения   \n",
       "0            Добавить два новых канала привлечения трафика, что позволит привлекать на 30% больше пользователей   \n",
       "7              Добавить форму подписки на все основные страницы, чтобы собрать базу клиентов для email-рассылок   \n",
       "6          Показать на главной странице баннеры с актуальными акциями и распродажами, чтобы увеличить конверсию   \n",
       "2  Добавить блоки рекомендаций товаров на сайт интернет магазина, чтобы повысить конверсию и средний чек заказа   \n",
       "1                                     Запустить собственную службу доставки, что сократит срок доставки заказов   \n",
       "5                      Добавить страницу отзывов клиентов о магазине, что позволит увеличить количество заказов   \n",
       "3           Изменить структура категорий, что увеличит конверсию, т.к. пользователи быстрее найдут нужный товар   \n",
       "4                              Изменить цвет фона главной страницы, чтобы увеличить вовлеченность пользователей   \n",
       "\n",
       "         ICE  \n",
       "8  16.200000  \n",
       "0  13.333333  \n",
       "7  11.200000  \n",
       "6   8.000000  \n",
       "2   7.000000  \n",
       "1   2.000000  \n",
       "5   1.333333  \n",
       "3   1.125000  \n",
       "4   1.000000  "
      ]
     },
     "metadata": {},
     "output_type": "display_data"
    }
   ],
   "source": [
    "hypothesis['ICE'] = hypothesis['impact'] * hypothesis['confidence'] / hypothesis['efforts']\n",
    "display(hypothesis[['hypothesis','ICE']].sort_values(by='ICE', ascending=False))"
   ]
  },
  {
   "cell_type": "markdown",
   "metadata": {},
   "source": [
    "Используя фреймворк ICE можно увидеть очередность тестирования гипотез.\n",
    "\n",
    "В первую очередь стоит проверить гипотезу `Запустить акцию, дающую скидку на товар в день рождения`."
   ]
  },
  {
   "cell_type": "markdown",
   "metadata": {},
   "source": [
    "###  Фреймворк RICE "
   ]
  },
  {
   "cell_type": "code",
   "execution_count": 21,
   "metadata": {},
   "outputs": [
    {
     "data": {
      "text/html": [
       "<div>\n",
       "<style scoped>\n",
       "    .dataframe tbody tr th:only-of-type {\n",
       "        vertical-align: middle;\n",
       "    }\n",
       "\n",
       "    .dataframe tbody tr th {\n",
       "        vertical-align: top;\n",
       "    }\n",
       "\n",
       "    .dataframe thead th {\n",
       "        text-align: right;\n",
       "    }\n",
       "</style>\n",
       "<table border=\"1\" class=\"dataframe\">\n",
       "  <thead>\n",
       "    <tr style=\"text-align: right;\">\n",
       "      <th></th>\n",
       "      <th>hypothesis</th>\n",
       "      <th>RICE</th>\n",
       "    </tr>\n",
       "  </thead>\n",
       "  <tbody>\n",
       "    <tr>\n",
       "      <th>7</th>\n",
       "      <td>Добавить форму подписки на все основные страницы, чтобы собрать базу клиентов для email-рассылок</td>\n",
       "      <td>112.0</td>\n",
       "    </tr>\n",
       "    <tr>\n",
       "      <th>2</th>\n",
       "      <td>Добавить блоки рекомендаций товаров на сайт интернет магазина, чтобы повысить конверсию и средний чек заказа</td>\n",
       "      <td>56.0</td>\n",
       "    </tr>\n",
       "    <tr>\n",
       "      <th>0</th>\n",
       "      <td>Добавить два новых канала привлечения трафика, что позволит привлекать на 30% больше пользователей</td>\n",
       "      <td>40.0</td>\n",
       "    </tr>\n",
       "    <tr>\n",
       "      <th>6</th>\n",
       "      <td>Показать на главной странице баннеры с актуальными акциями и распродажами, чтобы увеличить конверсию</td>\n",
       "      <td>40.0</td>\n",
       "    </tr>\n",
       "    <tr>\n",
       "      <th>8</th>\n",
       "      <td>Запустить акцию, дающую скидку на товар в день рождения</td>\n",
       "      <td>16.2</td>\n",
       "    </tr>\n",
       "    <tr>\n",
       "      <th>3</th>\n",
       "      <td>Изменить структура категорий, что увеличит конверсию, т.к. пользователи быстрее найдут нужный товар</td>\n",
       "      <td>9.0</td>\n",
       "    </tr>\n",
       "    <tr>\n",
       "      <th>1</th>\n",
       "      <td>Запустить собственную службу доставки, что сократит срок доставки заказов</td>\n",
       "      <td>4.0</td>\n",
       "    </tr>\n",
       "    <tr>\n",
       "      <th>5</th>\n",
       "      <td>Добавить страницу отзывов клиентов о магазине, что позволит увеличить количество заказов</td>\n",
       "      <td>4.0</td>\n",
       "    </tr>\n",
       "    <tr>\n",
       "      <th>4</th>\n",
       "      <td>Изменить цвет фона главной страницы, чтобы увеличить вовлеченность пользователей</td>\n",
       "      <td>3.0</td>\n",
       "    </tr>\n",
       "  </tbody>\n",
       "</table>\n",
       "</div>"
      ],
      "text/plain": [
       "                                                                                                     hypothesis  \\\n",
       "7              Добавить форму подписки на все основные страницы, чтобы собрать базу клиентов для email-рассылок   \n",
       "2  Добавить блоки рекомендаций товаров на сайт интернет магазина, чтобы повысить конверсию и средний чек заказа   \n",
       "0            Добавить два новых канала привлечения трафика, что позволит привлекать на 30% больше пользователей   \n",
       "6          Показать на главной странице баннеры с актуальными акциями и распродажами, чтобы увеличить конверсию   \n",
       "8                                                       Запустить акцию, дающую скидку на товар в день рождения   \n",
       "3           Изменить структура категорий, что увеличит конверсию, т.к. пользователи быстрее найдут нужный товар   \n",
       "1                                     Запустить собственную службу доставки, что сократит срок доставки заказов   \n",
       "5                      Добавить страницу отзывов клиентов о магазине, что позволит увеличить количество заказов   \n",
       "4                              Изменить цвет фона главной страницы, чтобы увеличить вовлеченность пользователей   \n",
       "\n",
       "    RICE  \n",
       "7  112.0  \n",
       "2   56.0  \n",
       "0   40.0  \n",
       "6   40.0  \n",
       "8   16.2  \n",
       "3    9.0  \n",
       "1    4.0  \n",
       "5    4.0  \n",
       "4    3.0  "
      ]
     },
     "metadata": {},
     "output_type": "display_data"
    }
   ],
   "source": [
    "hypothesis['RICE'] = hypothesis['reach'] * hypothesis['impact'] * hypothesis['confidence'] / hypothesis['efforts']\n",
    "display(hypothesis[['hypothesis','RICE']].sort_values(by='RICE', ascending=False))"
   ]
  },
  {
   "cell_type": "markdown",
   "metadata": {},
   "source": [
    "Используя фреймворк RICE можно увидеть очередность тестирования гипотез.\n",
    "\n",
    "В первую очередь стоит проверить гипотезу `Добавить форму подписки на все основные страницы, чтобы собрать базу клиентов для email-рассылок`."
   ]
  },
  {
   "cell_type": "markdown",
   "metadata": {},
   "source": [
    "### Различия в очередности проверки гипотез "
   ]
  },
  {
   "cell_type": "markdown",
   "metadata": {},
   "source": [
    "При использовании фреймворка ICE видим, что предпочтение нужно отдать гипотезе `Запустить акцию, дающую скидку на товар в день рождения`, тогда как после использования фреймворка RICE приоритетной становится гипотеза `Добавить форму подписки на все основные страницы, чтобы собрать базу клиентов для email-рассылок`. \n",
    "\n",
    "Различия заключаются в том, что во втором случае учитывается количество пользователей, которых затронет нововведение.\n",
    "\n",
    "Так как изменения во время проверки гипотезы `Запустить акцию, дающую скидку на товар в день рождения` затронут минимальное количество человек, тогда как гипотеза `Добавить форму подписки на все основные страницы, чтобы собрать базу клиентов для email-рассылок` затронет большинство клиентов, стоит предпочесть проверку второй гипотезы."
   ]
  },
  {
   "cell_type": "markdown",
   "metadata": {},
   "source": [
    "## Анализ A/B-теста "
   ]
  },
  {
   "cell_type": "markdown",
   "metadata": {},
   "source": [
    "Проведен A/B-тест, результаты описаны в таблицах `orders` и `visitors`."
   ]
  },
  {
   "cell_type": "markdown",
   "metadata": {},
   "source": [
    "1. Построим график кумулятивной выручки по группам. Сделаем выводы и предположения.\n",
    "1. Построим график кумулятивного среднего чека по группам. Сделаем выводы и предположения.\n",
    "1. Построим график относительного изменения кумулятивного среднего чека группы B к группе A. Сделаем выводы и предположения.\n",
    "1. Построим график кумулятивного среднего количества заказов на посетителя по группам. Сделаем выводы и предположения.\n",
    "1. Построим график относительного изменения кумулятивного среднего количества заказов на посетителя группы B к группе A. Сделаем выводы и предположения.\n",
    "1. Построим точечный график количества заказов по пользователям. Сделаем выводы и предположения.\n",
    "1. Посчитаем 95-й и 99-й перцентили количества заказов на пользователя. Выберем границу для определения аномальных пользователей.\n",
    "1. Построим точечный график стоимостей заказов. Сделаем выводы и предположения.\n",
    "1. Посчитаем 95-й и 99-й перцентили стоимости заказов. Выберем границу для определения аномальных заказов.\n",
    "1. Посчитаем статистическую значимость различий в среднем количестве заказов на посетителя между группами по «сырым» данным. Сделаем выводы и предположения.\n",
    "1. Посчитаем статистическую значимость различий в среднем чеке заказа между группами по «сырым» данным. Сделаем выводы и предположения.\n",
    "1. Посчитаем статистическую значимость различий в среднем количестве заказов на посетителя между группами по «очищенным» данным. Сделаем выводы и предположения.\n",
    "1. Посчитаем статистическую значимость различий в среднем чеке заказа между группами по «очищенным» данным. Сделаем выводы и предположения.\n",
    "1. Примем решение по результатам теста. Варианты решений:\n",
    "- 1. Остановить тест, зафиксировать победу одной из групп.\n",
    "- 2. Остановить тест, зафиксировать отсутствие различий между группами.\n",
    "- 3. Продолжить тест."
   ]
  },
  {
   "cell_type": "markdown",
   "metadata": {},
   "source": [
    "Соберём необходимые кумулятивные данные."
   ]
  },
  {
   "cell_type": "code",
   "execution_count": 22,
   "metadata": {},
   "outputs": [
    {
     "name": "stdout",
     "output_type": "stream",
     "text": [
      "        date group  orders  buyers  revenue  visitors\n",
      "0 2019-08-01     A      24      20   148579       719\n",
      "1 2019-08-01     B      21      20   101217       713\n",
      "2 2019-08-02     A      44      38   242401      1338\n",
      "3 2019-08-02     B      45      43   266748      1294\n",
      "4 2019-08-03     A      68      62   354874      1845\n"
     ]
    }
   ],
   "source": [
    "datesGroups = orders[['date', 'group']].drop_duplicates()\n",
    "\n",
    "ordersAggregated = datesGroups.apply(lambda x: orders[np.logical_and(orders['date'] <= x['date'], \n",
    "                                                                     orders['group'] == x['group'])]\\\n",
    "            .agg({'date' : 'max', 'group' : 'max', 'transaction_id' : 'nunique', \n",
    "                  'visitor_id' : 'nunique', 'revenue' : 'sum'}), axis=1)\\\n",
    "            .sort_values(by=['date','group'])\n",
    "\n",
    "visitorsAggregated = datesGroups.apply(lambda x: visitors[np.logical_and(visitors['date'] <= x['date'], \n",
    "            visitors['group'] == x['group'])].agg({'date' : 'max', 'group' : 'max', 'visitors' : 'sum'}), axis=1)\\\n",
    "            .sort_values(by=['date','group'])\n",
    "\n",
    "cumulativeData = ordersAggregated.merge(visitorsAggregated, left_on=['date', 'group'], right_on=['date', 'group'])\n",
    "cumulativeData.columns = ['date', 'group', 'orders', 'buyers', 'revenue', 'visitors']\n",
    "\n",
    "print(cumulativeData.head(5))"
   ]
  },
  {
   "cell_type": "markdown",
   "metadata": {},
   "source": [
    "### Графики кумулятивной выручки по дням по группам"
   ]
  },
  {
   "cell_type": "code",
   "execution_count": 23,
   "metadata": {
    "scrolled": true
   },
   "outputs": [
    {
     "data": {
      "image/png": "[encoded data removed]",
      "text/plain": [
       "<Figure size 1000x500 with 1 Axes>"
      ]
     },
     "metadata": {},
     "output_type": "display_data"
    }
   ],
   "source": [
    "cumulativeRevenueA = cumulativeData[cumulativeData['group']=='A'][['date','revenue', 'orders']]\n",
    "\n",
    "cumulativeRevenueB = cumulativeData[cumulativeData['group']=='B'][['date','revenue', 'orders']]\n",
    "\n",
    "plt.figure(figsize=(10, 5))\n",
    "\n",
    "plt.plot(cumulativeRevenueA['date'], cumulativeRevenueA['revenue'], label='A')\n",
    "\n",
    "plt.plot(cumulativeRevenueB['date'], cumulativeRevenueB['revenue'], label='B')\n",
    "\n",
    "plt.title('График кумулятивной выручки по группам')\n",
    "plt.xlabel('Даты')\n",
    "plt.ylabel('Сумма')\n",
    "plt.legend() \n",
    "\n",
    "plt.show()"
   ]
  },
  {
   "cell_type": "markdown",
   "metadata": {},
   "source": [
    "Сегмент B вырывается вперёд и лидирует до конца теста.\n",
    "\n",
    "Видим, что аномально большие заказы влияют на результаты. При заключительном анализе их нужно удалить."
   ]
  },
  {
   "cell_type": "markdown",
   "metadata": {},
   "source": [
    "### Графики кумулятивного среднего чека по дням для каждой группы"
   ]
  },
  {
   "cell_type": "code",
   "execution_count": 24,
   "metadata": {
    "scrolled": true
   },
   "outputs": [
    {
     "data": {
      "image/png": "[encoded data removed]",
      "text/plain": [
       "<Figure size 1000x500 with 1 Axes>"
      ]
     },
     "metadata": {},
     "output_type": "display_data"
    }
   ],
   "source": [
    "plt.figure(figsize=(10, 5))\n",
    "\n",
    "plt.plot(cumulativeRevenueA['date'], cumulativeRevenueA['revenue']/cumulativeRevenueA['orders'], label='A')\n",
    "\n",
    "plt.plot(cumulativeRevenueB['date'], cumulativeRevenueB['revenue']/cumulativeRevenueB['orders'], label='B')\n",
    "\n",
    "plt.title('График кумулятивного среднего чека по группам')\n",
    "plt.xlabel('Даты')\n",
    "plt.ylabel('Сумма')\n",
    "plt.legend() \n",
    "\n",
    "plt.show()"
   ]
  },
  {
   "cell_type": "markdown",
   "metadata": {},
   "source": [
    "Кумулятивное значение среднего чека по сегментам продолжает колебаться. Скорее всего, принимать решение по этой метрике рано. Или требуется дополнительный анализ выбросов, которые так сильно искажают результаты."
   ]
  },
  {
   "cell_type": "markdown",
   "metadata": {},
   "source": [
    "### График относительного изменения кумулятивного среднего чека группы B к группе A "
   ]
  },
  {
   "cell_type": "code",
   "execution_count": 25,
   "metadata": {},
   "outputs": [
    {
     "data": {
      "image/png": "[encoded data removed]",
      "text/plain": [
       "<Figure size 1000x500 with 1 Axes>"
      ]
     },
     "metadata": {},
     "output_type": "display_data"
    }
   ],
   "source": [
    "mergedCumulativeRevenue = cumulativeRevenueA.merge(cumulativeRevenueB, left_on='date', \n",
    "                                                   right_on='date', how='left', suffixes=['A', 'B'])\n",
    "\n",
    "plt.figure(figsize=(10, 5))\n",
    "\n",
    "# cтроим отношение средних чеков\n",
    "plt.plot(mergedCumulativeRevenue['date'], (mergedCumulativeRevenue['revenueB']/mergedCumulativeRevenue['ordersB'])/\n",
    "         (mergedCumulativeRevenue['revenueA']/mergedCumulativeRevenue['ordersA'])-1)\n",
    "\n",
    "# добавляем ось X\n",
    "plt.axhline(y=0, color='black', linestyle='--')\n",
    "\n",
    "plt.title('График относительного изменения кумулятивного среднего чека группы B к группе A')\n",
    "plt.xlabel('Даты')\n",
    "plt.ylabel('Уровень')\n",
    "\n",
    "plt.show()"
   ]
  },
  {
   "cell_type": "markdown",
   "metadata": {},
   "source": [
    "Результаты теста значительно и резко менялись в несколько дат. Вероятно, именно тогда были совершены аномальные заказы."
   ]
  },
  {
   "cell_type": "markdown",
   "metadata": {},
   "source": [
    "### График кумулятивного среднего количества заказов на посетителя по группам"
   ]
  },
  {
   "cell_type": "code",
   "execution_count": 26,
   "metadata": {},
   "outputs": [
    {
     "data": {
      "image/png": "[encoded data removed]",
      "text/plain": [
       "<Figure size 1000x500 with 1 Axes>"
      ]
     },
     "metadata": {},
     "output_type": "display_data"
    }
   ],
   "source": [
    "cumulativeData['conversion'] = cumulativeData['orders']/cumulativeData['visitors']\n",
    "\n",
    "cumulativeDataA = cumulativeData[cumulativeData['group']=='A']\n",
    "\n",
    "cumulativeDataB = cumulativeData[cumulativeData['group']=='B']\n",
    "\n",
    "plt.figure(figsize=(10, 5))\n",
    "\n",
    "plt.plot(cumulativeDataA['date'], cumulativeDataA['conversion'], label='A')\n",
    "plt.plot(cumulativeDataB['date'], cumulativeDataB['conversion'], label='B')\n",
    "\n",
    "plt.axis([dt.datetime(2019, 8, 1), dt.datetime(2019, 9, 1), 0, 0.05])\n",
    "\n",
    "plt.title('График кумулятивного среднего количества заказов на посетителя по группам')\n",
    "plt.xlabel('Даты')\n",
    "plt.ylabel('Уровень')\n",
    "plt.legend() \n",
    "\n",
    "plt.show()"
   ]
  },
  {
   "cell_type": "markdown",
   "metadata": {},
   "source": [
    "В начале теста сегмент A имел большую конверсию, но постепенно сегмент B выровнялся и зафиксировался примерно около одного значения, больше значения сегмента A.\n",
    "\n",
    "Мы изменили масштаб графика, чтобы было видно, что абсолютное значение колебания в начале и в конце теста не слишком большое: от 2% до 4%. В относительных величинах — это почти в 2 раза. Потому, если убрать масштаб осей, будет казаться, что колебания продолжаются, и конверсия не установилась около своего среднего значения."
   ]
  },
  {
   "cell_type": "markdown",
   "metadata": {},
   "source": [
    "### График относительного изменения кумулятивного среднего количества заказов на посетителя группы B к группе A"
   ]
  },
  {
   "cell_type": "code",
   "execution_count": 27,
   "metadata": {
    "scrolled": false
   },
   "outputs": [
    {
     "data": {
      "image/png": "[encoded data removed]",
      "text/plain": [
       "<Figure size 1000x500 with 1 Axes>"
      ]
     },
     "metadata": {},
     "output_type": "display_data"
    }
   ],
   "source": [
    "mergedCumulativeConversions = cumulativeDataA[['date','conversion']].merge(cumulativeDataB[['date','conversion']], \n",
    "                                                    left_on='date', right_on='date', how='left', suffixes=['A', 'B'])\n",
    "\n",
    "plt.figure(figsize=(10, 5))\n",
    "\n",
    "plt.plot(mergedCumulativeConversions['date'], mergedCumulativeConversions['conversionB']/\n",
    "         mergedCumulativeConversions['conversionA']-1, label=\"Относительный прирост конверсии группы B относительно группы A\")\n",
    "plt.title('График относительного изменения кумулятивного среднего количества заказов на посетителя группы B к группе A')\n",
    "plt.xlabel('Даты')\n",
    "plt.ylabel('Уровень')\n",
    "plt.legend() \n",
    "\n",
    "plt.axhline(y=0, color='black', linestyle='--')\n",
    "plt.axhline(y=0.2, color='grey', linestyle='--')\n",
    "plt.axis([dt.datetime(2019, 8, 1), dt.datetime(2019, 9, 1), -0.3, 0.3])\n",
    "plt.show()"
   ]
  },
  {
   "cell_type": "markdown",
   "metadata": {},
   "source": [
    "Почти с самого начала теста группа B лидирует по конверсии: становится лучше и лучше, либо зафиксировалась около прироста в 15% относительно группы A."
   ]
  },
  {
   "cell_type": "markdown",
   "metadata": {},
   "source": [
    "### Точечный график количества заказов по пользователям"
   ]
  },
  {
   "cell_type": "markdown",
   "metadata": {},
   "source": [
    "Датафрейм с числом заказов по пользователям. "
   ]
  },
  {
   "cell_type": "code",
   "execution_count": 28,
   "metadata": {},
   "outputs": [
    {
     "data": {
      "text/html": [
       "<div>\n",
       "<style scoped>\n",
       "    .dataframe tbody tr th:only-of-type {\n",
       "        vertical-align: middle;\n",
       "    }\n",
       "\n",
       "    .dataframe tbody tr th {\n",
       "        vertical-align: top;\n",
       "    }\n",
       "\n",
       "    .dataframe thead th {\n",
       "        text-align: right;\n",
       "    }\n",
       "</style>\n",
       "<table border=\"1\" class=\"dataframe\">\n",
       "  <thead>\n",
       "    <tr style=\"text-align: right;\">\n",
       "      <th></th>\n",
       "      <th>visitor_id</th>\n",
       "      <th>orders</th>\n",
       "    </tr>\n",
       "  </thead>\n",
       "  <tbody>\n",
       "    <tr>\n",
       "      <th>1023</th>\n",
       "      <td>4256040402</td>\n",
       "      <td>11</td>\n",
       "    </tr>\n",
       "    <tr>\n",
       "      <th>591</th>\n",
       "      <td>2458001652</td>\n",
       "      <td>11</td>\n",
       "    </tr>\n",
       "    <tr>\n",
       "      <th>569</th>\n",
       "      <td>2378935119</td>\n",
       "      <td>9</td>\n",
       "    </tr>\n",
       "    <tr>\n",
       "      <th>487</th>\n",
       "      <td>2038680547</td>\n",
       "      <td>8</td>\n",
       "    </tr>\n",
       "    <tr>\n",
       "      <th>44</th>\n",
       "      <td>199603092</td>\n",
       "      <td>5</td>\n",
       "    </tr>\n",
       "    <tr>\n",
       "      <th>744</th>\n",
       "      <td>3062433592</td>\n",
       "      <td>5</td>\n",
       "    </tr>\n",
       "    <tr>\n",
       "      <th>55</th>\n",
       "      <td>237748145</td>\n",
       "      <td>5</td>\n",
       "    </tr>\n",
       "    <tr>\n",
       "      <th>917</th>\n",
       "      <td>3803269165</td>\n",
       "      <td>5</td>\n",
       "    </tr>\n",
       "    <tr>\n",
       "      <th>299</th>\n",
       "      <td>1230306981</td>\n",
       "      <td>5</td>\n",
       "    </tr>\n",
       "    <tr>\n",
       "      <th>897</th>\n",
       "      <td>3717692402</td>\n",
       "      <td>5</td>\n",
       "    </tr>\n",
       "  </tbody>\n",
       "</table>\n",
       "</div>"
      ],
      "text/plain": [
       "      visitor_id  orders\n",
       "1023  4256040402      11\n",
       "591   2458001652      11\n",
       "569   2378935119       9\n",
       "487   2038680547       8\n",
       "44     199603092       5\n",
       "744   3062433592       5\n",
       "55     237748145       5\n",
       "917   3803269165       5\n",
       "299   1230306981       5\n",
       "897   3717692402       5"
      ]
     },
     "metadata": {},
     "output_type": "display_data"
    }
   ],
   "source": [
    "ordersByUsers = (orders.groupby('visitor_id', as_index=False).agg({'transaction_id' : 'nunique'}))\n",
    "ordersByUsers.columns = ['visitor_id', 'orders']\n",
    "display(ordersByUsers.sort_values(by='orders', ascending=False).head(10)) "
   ]
  },
  {
   "cell_type": "markdown",
   "metadata": {},
   "source": [
    "Построим диаграмму методом scatter()."
   ]
  },
  {
   "cell_type": "code",
   "execution_count": 29,
   "metadata": {},
   "outputs": [
    {
     "data": {
      "image/png": "[encoded data removed]",
      "text/plain": [
       "<Figure size 1000x500 with 1 Axes>"
      ]
     },
     "metadata": {},
     "output_type": "display_data"
    }
   ],
   "source": [
    "x_values = pd.Series(range(0, len(ordersByUsers)))\n",
    "\n",
    "plt.figure(figsize=(10, 5))\n",
    "\n",
    "plt.scatter(x_values, ordersByUsers['orders']) \n",
    "\n",
    "plt.title('Точечный график количества заказов по пользователям')\n",
    "plt.xlabel('Пользователи')\n",
    "plt.ylabel('Заказы')\n",
    "\n",
    "plt.show()"
   ]
  },
  {
   "cell_type": "markdown",
   "metadata": {},
   "source": [
    "Пользователей, заказавших более двух раз, совсем мало. Они вполне могут быть аномальными. "
   ]
  },
  {
   "cell_type": "markdown",
   "metadata": {},
   "source": [
    "### 95-й и 99-й перцентили количества заказов на пользователя"
   ]
  },
  {
   "cell_type": "code",
   "execution_count": 30,
   "metadata": {},
   "outputs": [
    {
     "name": "stdout",
     "output_type": "stream",
     "text": [
      "[2. 4.]\n"
     ]
    }
   ],
   "source": [
    "print(np.percentile(ordersByUsers['orders'], [95, 99])) "
   ]
  },
  {
   "cell_type": "markdown",
   "metadata": {},
   "source": [
    "Не более 5% пользователей совершали больше двух заказов. И не более 1% пользователей — больше четырёх заказов."
   ]
  },
  {
   "cell_type": "markdown",
   "metadata": {},
   "source": [
    "###  График стоимостей заказов"
   ]
  },
  {
   "cell_type": "code",
   "execution_count": 31,
   "metadata": {
    "scrolled": false
   },
   "outputs": [
    {
     "data": {
      "image/png": "[encoded data removed]",
      "text/plain": [
       "<Figure size 1000x500 with 1 Axes>"
      ]
     },
     "metadata": {},
     "output_type": "display_data"
    }
   ],
   "source": [
    "x_values = pd.Series(range(0, len(orders['revenue'])))\n",
    "\n",
    "plt.figure(figsize=(10, 5))\n",
    "\n",
    "plt.scatter(x_values, orders['revenue']) \n",
    "\n",
    "plt.title('График стоимостей заказов')\n",
    "plt.xlabel('Пользователи')\n",
    "plt.ylabel('Сумма')\n",
    "\n",
    "plt.show()"
   ]
  },
  {
   "cell_type": "markdown",
   "metadata": {},
   "source": [
    "Видим два заказа, стоимость которых превышает 150 000 рублей. Найдем 95-й и 99-й перцентили."
   ]
  },
  {
   "cell_type": "markdown",
   "metadata": {},
   "source": [
    "### 95-й и 99-й перцентили стоимости заказов"
   ]
  },
  {
   "cell_type": "code",
   "execution_count": 32,
   "metadata": {},
   "outputs": [
    {
     "name": "stdout",
     "output_type": "stream",
     "text": [
      "[28000.  58233.2]\n"
     ]
    }
   ],
   "source": [
    "print(np.percentile(orders['revenue'], [95, 99])) "
   ]
  },
  {
   "cell_type": "markdown",
   "metadata": {},
   "source": [
    "Не более, чем у 5% заказов чек дороже 28 000 рублей. И не больше, чем у 1% заказов — дороже 58 233 рублей. "
   ]
  },
  {
   "cell_type": "markdown",
   "metadata": {},
   "source": [
    "### Статистическая значимость различий в среднем количестве заказов на посетителя между группами по «сырым» данным"
   ]
  },
  {
   "cell_type": "markdown",
   "metadata": {},
   "source": [
    "**Гипотезы**\n",
    "\n",
    "    H0: в среднем количестве заказов между группами по «сырым» данным нет статистически значимых различий\n",
    "    H1: в среднем количестве заказов между группами по «сырым» данным есть статистически значимые различия"
   ]
  },
  {
   "cell_type": "markdown",
   "metadata": {},
   "source": [
    "Подготовим данные к анализу."
   ]
  },
  {
   "cell_type": "code",
   "execution_count": 33,
   "metadata": {
    "scrolled": true
   },
   "outputs": [
    {
     "data": {
      "text/html": [
       "<div>\n",
       "<style scoped>\n",
       "    .dataframe tbody tr th:only-of-type {\n",
       "        vertical-align: middle;\n",
       "    }\n",
       "\n",
       "    .dataframe tbody tr th {\n",
       "        vertical-align: top;\n",
       "    }\n",
       "\n",
       "    .dataframe thead th {\n",
       "        text-align: right;\n",
       "    }\n",
       "</style>\n",
       "<table border=\"1\" class=\"dataframe\">\n",
       "  <thead>\n",
       "    <tr style=\"text-align: right;\">\n",
       "      <th></th>\n",
       "      <th>date</th>\n",
       "      <th>ordersPerDateA</th>\n",
       "      <th>revenuePerDateA</th>\n",
       "      <th>ordersPerDateB</th>\n",
       "      <th>revenuePerDateB</th>\n",
       "      <th>ordersCummulativeA</th>\n",
       "      <th>revenueCummulativeA</th>\n",
       "      <th>ordersCummulativeB</th>\n",
       "      <th>revenueCummulativeB</th>\n",
       "      <th>visitorsPerDateA</th>\n",
       "      <th>visitorsPerDateB</th>\n",
       "      <th>visitorsCummulativeA</th>\n",
       "      <th>visitorsCummulativeB</th>\n",
       "    </tr>\n",
       "  </thead>\n",
       "  <tbody>\n",
       "    <tr>\n",
       "      <th>0</th>\n",
       "      <td>2019-08-01</td>\n",
       "      <td>24</td>\n",
       "      <td>148579</td>\n",
       "      <td>21</td>\n",
       "      <td>101217</td>\n",
       "      <td>24</td>\n",
       "      <td>148579</td>\n",
       "      <td>21</td>\n",
       "      <td>101217</td>\n",
       "      <td>719</td>\n",
       "      <td>713</td>\n",
       "      <td>719</td>\n",
       "      <td>713</td>\n",
       "    </tr>\n",
       "    <tr>\n",
       "      <th>1</th>\n",
       "      <td>2019-08-02</td>\n",
       "      <td>20</td>\n",
       "      <td>93822</td>\n",
       "      <td>24</td>\n",
       "      <td>165531</td>\n",
       "      <td>44</td>\n",
       "      <td>242401</td>\n",
       "      <td>45</td>\n",
       "      <td>266748</td>\n",
       "      <td>619</td>\n",
       "      <td>581</td>\n",
       "      <td>1338</td>\n",
       "      <td>1294</td>\n",
       "    </tr>\n",
       "    <tr>\n",
       "      <th>2</th>\n",
       "      <td>2019-08-03</td>\n",
       "      <td>24</td>\n",
       "      <td>112473</td>\n",
       "      <td>16</td>\n",
       "      <td>114248</td>\n",
       "      <td>68</td>\n",
       "      <td>354874</td>\n",
       "      <td>61</td>\n",
       "      <td>380996</td>\n",
       "      <td>507</td>\n",
       "      <td>509</td>\n",
       "      <td>1845</td>\n",
       "      <td>1803</td>\n",
       "    </tr>\n",
       "    <tr>\n",
       "      <th>3</th>\n",
       "      <td>2019-08-04</td>\n",
       "      <td>16</td>\n",
       "      <td>70825</td>\n",
       "      <td>17</td>\n",
       "      <td>108571</td>\n",
       "      <td>84</td>\n",
       "      <td>425699</td>\n",
       "      <td>78</td>\n",
       "      <td>489567</td>\n",
       "      <td>717</td>\n",
       "      <td>770</td>\n",
       "      <td>2562</td>\n",
       "      <td>2573</td>\n",
       "    </tr>\n",
       "    <tr>\n",
       "      <th>4</th>\n",
       "      <td>2019-08-05</td>\n",
       "      <td>25</td>\n",
       "      <td>124218</td>\n",
       "      <td>23</td>\n",
       "      <td>92428</td>\n",
       "      <td>109</td>\n",
       "      <td>549917</td>\n",
       "      <td>101</td>\n",
       "      <td>581995</td>\n",
       "      <td>756</td>\n",
       "      <td>707</td>\n",
       "      <td>3318</td>\n",
       "      <td>3280</td>\n",
       "    </tr>\n",
       "  </tbody>\n",
       "</table>\n",
       "</div>"
      ],
      "text/plain": [
       "        date  ordersPerDateA  revenuePerDateA  ordersPerDateB  \\\n",
       "0 2019-08-01              24           148579              21   \n",
       "1 2019-08-02              20            93822              24   \n",
       "2 2019-08-03              24           112473              16   \n",
       "3 2019-08-04              16            70825              17   \n",
       "4 2019-08-05              25           124218              23   \n",
       "\n",
       "   revenuePerDateB  ordersCummulativeA  revenueCummulativeA  \\\n",
       "0           101217                  24               148579   \n",
       "1           165531                  44               242401   \n",
       "2           114248                  68               354874   \n",
       "3           108571                  84               425699   \n",
       "4            92428                 109               549917   \n",
       "\n",
       "   ordersCummulativeB  revenueCummulativeB  visitorsPerDateA  \\\n",
       "0                  21               101217               719   \n",
       "1                  45               266748               619   \n",
       "2                  61               380996               507   \n",
       "3                  78               489567               717   \n",
       "4                 101               581995               756   \n",
       "\n",
       "   visitorsPerDateB  visitorsCummulativeA  visitorsCummulativeB  \n",
       "0               713                   719                   713  \n",
       "1               581                  1338                  1294  \n",
       "2               509                  1845                  1803  \n",
       "3               770                  2562                  2573  \n",
       "4               707                  3318                  3280  "
      ]
     },
     "metadata": {},
     "output_type": "display_data"
    }
   ],
   "source": [
    "visitorsADaily = visitors[visitors['group'] == 'A'][['date', 'visitors']]\n",
    "visitorsADaily.columns = ['date', 'visitorsPerDateA']\n",
    "\n",
    "visitorsACummulative = visitorsADaily.apply(\n",
    "    lambda x: visitorsADaily[visitorsADaily['date'] <= x['date']].agg(\n",
    "        {'date': 'max', 'visitorsPerDateA': 'sum'}\n",
    "    ),\n",
    "    axis=1,\n",
    ")\n",
    "visitorsACummulative.columns = ['date', 'visitorsCummulativeA']\n",
    "\n",
    "visitorsBDaily = visitors[visitors['group'] == 'B'][['date', 'visitors']]\n",
    "visitorsBDaily.columns = ['date', 'visitorsPerDateB']\n",
    "\n",
    "visitorsBCummulative = visitorsBDaily.apply(\n",
    "    lambda x: visitorsBDaily[visitorsBDaily['date'] <= x['date']].agg(\n",
    "        {'date': 'max', 'visitorsPerDateB': 'sum'}\n",
    "    ),\n",
    "    axis=1,\n",
    ")\n",
    "visitorsBCummulative.columns = ['date', 'visitorsCummulativeB']\n",
    "\n",
    "ordersADaily = (\n",
    "    orders[orders['group'] == 'A'][['date', 'transaction_id', 'visitor_id', 'revenue']]\n",
    "    .groupby('date', as_index=False)\n",
    "    .agg({'transaction_id': pd.Series.nunique, 'revenue': 'sum'})\n",
    ")\n",
    "ordersADaily.columns = ['date', 'ordersPerDateA', 'revenuePerDateA']\n",
    "\n",
    "ordersACummulative = ordersADaily.apply(\n",
    "    lambda x: ordersADaily[ordersADaily['date'] <= x['date']].agg(\n",
    "        {'date': 'max', 'ordersPerDateA': 'sum', 'revenuePerDateA': 'sum'}\n",
    "    ),\n",
    "    axis=1,\n",
    ").sort_values(by=['date'])\n",
    "ordersACummulative.columns = [\n",
    "    'date',\n",
    "    'ordersCummulativeA',\n",
    "    'revenueCummulativeA',\n",
    "]\n",
    "\n",
    "ordersBDaily = (\n",
    "    orders[orders['group'] == 'B'][['date', 'transaction_id', 'visitor_id', 'revenue']]\n",
    "    .groupby('date', as_index=False)\n",
    "    .agg({'transaction_id': pd.Series.nunique, 'revenue': 'sum'})\n",
    ")\n",
    "ordersBDaily.columns = ['date', 'ordersPerDateB', 'revenuePerDateB']\n",
    "\n",
    "ordersBCummulative = ordersBDaily.apply(\n",
    "    lambda x: ordersBDaily[ordersBDaily['date'] <= x['date']].agg(\n",
    "        {'date': 'max', 'ordersPerDateB': 'sum', 'revenuePerDateB': 'sum'}\n",
    "    ),\n",
    "    axis=1,\n",
    ").sort_values(by=['date'])\n",
    "ordersBCummulative.columns = [\n",
    "    'date',\n",
    "    'ordersCummulativeB',\n",
    "    'revenueCummulativeB',\n",
    "]\n",
    "\n",
    "data = (\n",
    "    ordersADaily.merge(\n",
    "        ordersBDaily, left_on='date', right_on='date', how='left'\n",
    "    )\n",
    "    .merge(ordersACummulative, left_on='date', right_on='date', how='left')\n",
    "    .merge(ordersBCummulative, left_on='date', right_on='date', how='left')\n",
    "    .merge(visitorsADaily, left_on='date', right_on='date', how='left')\n",
    "    .merge(visitorsBDaily, left_on='date', right_on='date', how='left')\n",
    "    .merge(visitorsACummulative, left_on='date', right_on='date', how='left')\n",
    "    .merge(visitorsBCummulative, left_on='date', right_on='date', how='left')\n",
    ")\n",
    "\n",
    "display(data.head(5))\n",
    "\n",
    "\n",
    "ordersByUsersA = (\n",
    "    orders[orders['group'] == 'A']\n",
    "    .groupby('visitor_id', as_index=False)\n",
    "    .agg({'transaction_id': pd.Series.nunique})\n",
    ")\n",
    "ordersByUsersA.columns = ['visitor_id', 'orders']\n",
    "\n",
    "ordersByUsersB = (\n",
    "    orders[orders['group'] == 'B']\n",
    "    .groupby('visitor_id', as_index=False)\n",
    "    .agg({'transaction_id': pd.Series.nunique})\n",
    ")\n",
    "ordersByUsersB.columns = ['visitor_id', 'orders']\n",
    "\n",
    "\n",
    "pd.Series(0, index=np.arange(data['visitorsPerDateA'].sum() - len(ordersByUsersA['orders'])), name='orders')\n",
    "[ordersByUsersA['orders'],pd.Series(0, index=np.arange(data['visitorsPerDateA'].sum() - len(ordersByUsersA['orders'])), \n",
    "                                    name='orders')]\n",
    "sampleA = pd.concat([ordersByUsersA['orders'],pd.Series(0, \n",
    "                index=np.arange(data['visitorsPerDateA'].sum() - len(ordersByUsersA['orders'])), name='orders')],axis=0)\n",
    "\n",
    "sampleB = pd.concat([ordersByUsersB['orders'],pd.Series(0, \n",
    "                index=np.arange(data['visitorsPerDateB'].sum() - len(ordersByUsersB['orders'])), name='orders')],axis=0)"
   ]
  },
  {
   "cell_type": "code",
   "execution_count": 34,
   "metadata": {},
   "outputs": [
    {
     "name": "stdout",
     "output_type": "stream",
     "text": [
      "P-value равно 0.016792355056752608\n",
      "Относительный прирост равен 0.138\n"
     ]
    }
   ],
   "source": [
    "print(\"P-value равно\", format(stats.mannwhitneyu(sampleA, sampleB)[1]))\n",
    "\n",
    "print(\"Относительный прирост равен\", '{0:.3f}'.format(sampleB.mean() / sampleA.mean() - 1))"
   ]
  },
  {
   "cell_type": "markdown",
   "metadata": {},
   "source": [
    "P-value значительно меньше 0.05, потому нулевую гипотезу отвергаем. Анализ «сырых данных» сообщает, что в среднем количестве заказов между группами есть статистически значимые различия. Относительный прирост среднего группы B к конверсии группы A равен 13.8%.\n",
    "\n",
    "Сравним средние чеки по \"сырым данным\", а затем обе метрики ещё раз после удаления выбросов."
   ]
  },
  {
   "cell_type": "markdown",
   "metadata": {},
   "source": [
    "### Статистическая значимость различий в среднем чеке заказа между группами по «сырым» данным"
   ]
  },
  {
   "cell_type": "markdown",
   "metadata": {},
   "source": [
    "**Гипотезы**\n",
    "\n",
    "    H0: в среднем чеке заказа между группами по \"сырым\" данным нет статистически значимых различий\n",
    "    H1: в среднем чеке заказа между группами по \"сырым\" данным есть статистически значимые различия"
   ]
  },
  {
   "cell_type": "code",
   "execution_count": 35,
   "metadata": {},
   "outputs": [
    {
     "name": "stdout",
     "output_type": "stream",
     "text": [
      "P-value равно 0.7292909855432458\n",
      "Относительный прирост равен 0.259\n"
     ]
    }
   ],
   "source": [
    "print(\"P-value равно\", format(stats.mannwhitneyu(orders[orders['group']=='A']['revenue'], \n",
    "                                                           orders[orders['group']=='B']['revenue'])[1]))\n",
    "\n",
    "print(\"Относительный прирост равен\", '{0:.3f}'.format(orders[orders['group']=='B']['revenue'].mean()/\n",
    "                                                      orders[orders['group']=='A']['revenue'].mean()-1))"
   ]
  },
  {
   "cell_type": "markdown",
   "metadata": {},
   "source": [
    "P-value больше 0.05 — статистически значимых отличий в среднем чеке между группами нет. Относительное различие среднего чека между сегментами 25.9%"
   ]
  },
  {
   "cell_type": "markdown",
   "metadata": {},
   "source": [
    "### Статистическая значимость различий в среднем количестве заказов на посетителя между группами по «очищенным» данным"
   ]
  },
  {
   "cell_type": "markdown",
   "metadata": {},
   "source": [
    "Примем за аномальных пользователей тех, кто совершил 4 заказа и более, или совершил заказ на сумму свыше 28 000 рублей. Так мы уберём 1% пользователей с наибольшим числом заказов и от 1% до 5% заказов с наибольшей стоимостью."
   ]
  },
  {
   "cell_type": "code",
   "execution_count": 36,
   "metadata": {},
   "outputs": [
    {
     "data": {
      "text/plain": [
       "1099    148427295\n",
       "18      199603092\n",
       "928     204675465\n",
       "23      237748145\n",
       "684     358944393\n",
       "Name: visitor_id, dtype: int64"
      ]
     },
     "metadata": {},
     "output_type": "display_data"
    }
   ],
   "source": [
    "usersWithManyOrders = pd.concat(\n",
    "    [\n",
    "        ordersByUsersA[ordersByUsersA['orders'] >= int(np.percentile(ordersByUsers['orders'], [99]))]['visitor_id'],\n",
    "        ordersByUsersB[ordersByUsersB['orders'] >= int(np.percentile(ordersByUsers['orders'], [99]))]['visitor_id'],\n",
    "    ],\n",
    "    axis=0,\n",
    ")\n",
    "usersWithExpensiveOrders = orders[orders['revenue'] > int(np.percentile(orders['revenue'], [95])) ]['visitor_id']\n",
    "abnormalUsers = (\n",
    "    pd.concat([usersWithManyOrders, usersWithExpensiveOrders], axis=0)\n",
    "    .drop_duplicates()\n",
    "    .sort_values()\n",
    ")\n",
    "display(abnormalUsers.head(5))"
   ]
  },
  {
   "cell_type": "markdown",
   "metadata": {},
   "source": [
    "Теперь у нас есть множество аномальных пользователей. После их удаления можно считать статистическую значимость. Надо выяснить, есть ли существенные различия между группами с очищенными данными."
   ]
  },
  {
   "cell_type": "markdown",
   "metadata": {},
   "source": [
    "**Гипотезы**\n",
    "\n",
    "    H0: в среднем количестве заказов между группами по «сырым» данным нет статистически значимых различий\n",
    "    H1: в среднем количестве заказов между группами по «сырым» данным есть статистически значимые различия"
   ]
  },
  {
   "cell_type": "code",
   "execution_count": 37,
   "metadata": {},
   "outputs": [],
   "source": [
    "sampleAFiltered = pd.concat(\n",
    "    [\n",
    "        ordersByUsersA[\n",
    "            np.logical_not(ordersByUsersA['visitor_id'].isin(abnormalUsers))\n",
    "        ]['orders'],\n",
    "        pd.Series(\n",
    "            0,\n",
    "            index=np.arange(\n",
    "                data['visitorsPerDateA'].sum() - len(ordersByUsersA['orders'])\n",
    "            ),\n",
    "            name='orders',\n",
    "        ),\n",
    "    ],\n",
    "    axis=0,\n",
    ")\n",
    "\n",
    "sampleBFiltered = pd.concat(\n",
    "    [\n",
    "        ordersByUsersB[\n",
    "            np.logical_not(ordersByUsersB['visitor_id'].isin(abnormalUsers))\n",
    "        ]['orders'],\n",
    "        pd.Series(\n",
    "            0,\n",
    "            index=np.arange(\n",
    "                data['visitorsPerDateB'].sum() - len(ordersByUsersB['orders'])\n",
    "            ),\n",
    "            name='orders',\n",
    "        ),\n",
    "    ],\n",
    "    axis=0,\n",
    ")"
   ]
  },
  {
   "cell_type": "code",
   "execution_count": 38,
   "metadata": {},
   "outputs": [
    {
     "name": "stdout",
     "output_type": "stream",
     "text": [
      "P-value равно 0.017942888591552505\n",
      "Относительный прирост равен 0.148\n"
     ]
    }
   ],
   "source": [
    "print(\"P-value равно\", format(stats.mannwhitneyu(sampleAFiltered, sampleBFiltered)[1]))\n",
    "\n",
    "print(\"Относительный прирост равен\", '{0:.3f}'.format(sampleBFiltered.mean()/sampleAFiltered.mean()-1))"
   ]
  },
  {
   "cell_type": "markdown",
   "metadata": {},
   "source": [
    "Как и в случае с сырыми данными, статистическая значимость достигнута. Сегмент B значительно лучше сегмента A. "
   ]
  },
  {
   "cell_type": "markdown",
   "metadata": {},
   "source": [
    "### Статистическая значимость различий в среднем чеке заказа между группами по «очищенным» данным"
   ]
  },
  {
   "cell_type": "markdown",
   "metadata": {},
   "source": [
    "**Гипотезы**\n",
    "\n",
    "    H0: в среднем чеке заказа между группами по \"очищенным\" данным нет статистически значимых различий\n",
    "    H1: в среднем чеке заказа между группами по \"очищенным\" данным есть статистически значимые различия"
   ]
  },
  {
   "cell_type": "code",
   "execution_count": 39,
   "metadata": {},
   "outputs": [
    {
     "name": "stdout",
     "output_type": "stream",
     "text": [
      "P-value равно 0.9765292921254219\n",
      "Относительный прирост равен -0.017\n"
     ]
    }
   ],
   "source": [
    "print(\"P-value равно\",\n",
    "    format(\n",
    "        stats.mannwhitneyu(\n",
    "            orders[\n",
    "                np.logical_and(\n",
    "                    orders['group'] == 'A',\n",
    "                    np.logical_not(orders['visitor_id'].isin(abnormalUsers)),\n",
    "                )\n",
    "            ]['revenue'],\n",
    "            orders[\n",
    "                np.logical_and(\n",
    "                    orders['group'] == 'B',\n",
    "                    np.logical_not(orders['visitor_id'].isin(abnormalUsers)),\n",
    "                )\n",
    "            ]['revenue'],\n",
    "        )[1]\n",
    "    )\n",
    ")\n",
    "\n",
    "print(\"Относительный прирост равен\",\n",
    "    \"{0:.3f}\".format(\n",
    "        orders[\n",
    "            np.logical_and(\n",
    "                orders['group'] == 'B',\n",
    "                np.logical_not(orders['visitor_id'].isin(abnormalUsers)),\n",
    "            )\n",
    "        ]['revenue'].mean()\n",
    "        / orders[\n",
    "            np.logical_and(\n",
    "                orders['group'] == 'A',\n",
    "                np.logical_not(orders['visitor_id'].isin(abnormalUsers)),\n",
    "            )\n",
    "        ]['revenue'].mean()\n",
    "        - 1\n",
    "    )\n",
    ")"
   ]
  },
  {
   "cell_type": "markdown",
   "metadata": {},
   "source": [
    "P-value всё также превышает 0.5, поэтому мы не отвергаем нулевую теорию. Относительный прирост среднего чека между сегментами равен -1.7%"
   ]
  },
  {
   "cell_type": "markdown",
   "metadata": {},
   "source": [
    "###  Решение по результатам теста"
   ]
  },
  {
   "cell_type": "markdown",
   "metadata": {},
   "source": [
    "Результаты анализа:\n",
    "\n",
    "- График различия среднего чека колеблется: он и позволил нам найти аномалии. Сделать из этого графика определённые выводы нельзя.\n",
    "- График различия конверсии между группами сообщает, что результаты группы B лучше группы A: имеют тенденцию к росту, либо зафиксировались около прироста в **15%**.\n",
    "- Есть статистически значимое различие по конверсии между группами как по сырым данным, так и после фильтрации аномалий.\n",
    "- Статистически значимого различия по среднему чеку между группами нет как по сырым данным, так и после удаления аномалий.\n"
   ]
  },
  {
   "cell_type": "markdown",
   "metadata": {},
   "source": [
    "**Вывод**: благодаря анализу A/B-теста мы выяснили, что в альтернативной гипотезе нет изменений в среднем чеке, но увеличилась конверсия на 15%.\n",
    "\n",
    "Стоит остановить тест и зафиксировать победу группы B."
   ]
  },
  {
   "cell_type": "markdown",
   "metadata": {},
   "source": [
    "## Вывод "
   ]
  },
  {
   "cell_type": "markdown",
   "metadata": {},
   "source": [
    "1. **Приоритезация гипотез**\n",
    "\n",
    "    - Рассчитали значения фреймворков **ICE** и **RICE**. Обнаружив отличия в приоритетах, объяснили их разным охватом пользователей. Выбрали **RICE** как основной критерий. Приоритет получила гипотеза 7: `Добавить форму подписки на все основные страницы, чтобы собрать базу клиентов для email-рассылок`.\n",
    "\n",
    "\n",
    "2. **Анализ А/В-теста**\n",
    "\n",
    "    - **Изучение кумулятивных метрик**: подготовили кумулятивные данные для построения графиков. Изучили графики кумулятивной выручки и среднего чека. Выяснили, что в данных содержатся выбросы, потому что графики \"скачут\". По группам метрики практически не различаются. Изучили график кумулятивной конверсии - группа В стабилизировалась над группой А, также это видно на графике относительного изменения конверсии. На этом этапе заметили различия в конверсии и сделали предположение о том, что выручка и средний чек не различаются по группам.\n",
    "\n",
    "    - **Анализ выбросов**: так как на предыдущем шаге были обнаружены скачки на графиках, проанализировали выбросы для наших метрик. Для среднего чека искали выбросы в стоимости заказов, для конверсии - в количестве заказов на пользователя за период теста. За границу отсеивания выбрали 95 персентиль.\n",
    "\n",
    "    - **Расчет статистической значимости различий на сырых данных**: проверили значимость различий в конверсии и среднем чеке.\n",
    "\n",
    "        - Найдены статистически значимые различия в конверсиях. Наблюдается прирост в группе В на **13.8%**\n",
    "        - Статистически значимых различий в средних чеках групп не обнаружено, однако обнаружен прирост в **группе В** на **25.9%**. Сделали предположение на выбросы.\n",
    "    \n",
    "    - **Расчет статистической значимости различий на очищенных данных**: проверили значимость различий в конверсии и среднем чеке.\n",
    "\n",
    "        - Получили более точный результат по конверсии. Присутствует статистически значимый прирост в **группе В** на **14.8%**. \n",
    "        - Тест о средних чеках дал все тот же результат - различий нет. Однако отсеев выбросы, мы видим реальную картину относительного изменения в **-1,7%**.\n",
    "        - Результаты получили на уровне значимости в 95% (использовали alpha=0.05)\n",
    "\n",
    "\n",
    "\n",
    "3. **Решение по результатам теста**\n",
    "\n",
    "Принято решение остановить тест и зафиксировать победу **группы B**, так как в альтернативной гипотезе нет изменений в среднем чеке, но увеличилась конверсия на **15%**. "
   ]
  }
 ],
 "metadata": {
  "ExecuteTimeLog": [
   {
    "duration": 4,
    "start_time": "2023-02-02T10:42:06.870Z"
   },
   {
    "duration": 4,
    "start_time": "2023-02-02T10:42:15.447Z"
   },
   {
    "duration": 900,
    "start_time": "2023-02-02T19:16:45.312Z"
   },
   {
    "duration": 3,
    "start_time": "2023-02-02T19:16:47.472Z"
   },
   {
    "duration": 185,
    "start_time": "2023-02-02T19:21:07.872Z"
   },
   {
    "duration": 23,
    "start_time": "2023-02-02T19:22:12.314Z"
   },
   {
    "duration": 18,
    "start_time": "2023-02-02T19:23:18.241Z"
   },
   {
    "duration": 17,
    "start_time": "2023-02-02T19:25:24.692Z"
   },
   {
    "duration": 8,
    "start_time": "2023-02-02T19:27:35.487Z"
   },
   {
    "duration": 14,
    "start_time": "2023-02-02T19:27:46.734Z"
   },
   {
    "duration": 75,
    "start_time": "2023-02-02T19:30:53.550Z"
   },
   {
    "duration": 19,
    "start_time": "2023-02-02T19:31:01.869Z"
   },
   {
    "duration": 153,
    "start_time": "2023-02-02T19:33:01.845Z"
   },
   {
    "duration": 17,
    "start_time": "2023-02-02T19:34:01.348Z"
   },
   {
    "duration": 5,
    "start_time": "2023-02-02T19:34:49.432Z"
   },
   {
    "duration": 15,
    "start_time": "2023-02-02T19:35:03.693Z"
   },
   {
    "duration": 12,
    "start_time": "2023-02-02T19:35:21.112Z"
   },
   {
    "duration": 1167,
    "start_time": "2023-02-02T19:45:41.838Z"
   },
   {
    "duration": 622,
    "start_time": "2023-02-02T19:47:06.604Z"
   },
   {
    "duration": 74,
    "start_time": "2023-02-02T19:47:07.228Z"
   },
   {
    "duration": 24,
    "start_time": "2023-02-02T19:47:07.304Z"
   },
   {
    "duration": 19,
    "start_time": "2023-02-02T19:47:07.330Z"
   },
   {
    "duration": 7,
    "start_time": "2023-02-02T19:47:07.351Z"
   },
   {
    "duration": 16,
    "start_time": "2023-02-02T19:47:07.359Z"
   },
   {
    "duration": 56,
    "start_time": "2023-02-02T19:47:07.376Z"
   },
   {
    "duration": 5,
    "start_time": "2023-02-02T19:47:07.434Z"
   },
   {
    "duration": 38,
    "start_time": "2023-02-02T19:47:07.441Z"
   },
   {
    "duration": 35,
    "start_time": "2023-02-02T19:47:07.481Z"
   },
   {
    "duration": 90,
    "start_time": "2023-02-02T19:50:48.477Z"
   },
   {
    "duration": 4,
    "start_time": "2023-02-02T19:51:20.506Z"
   },
   {
    "duration": 5,
    "start_time": "2023-02-02T19:51:53.346Z"
   },
   {
    "duration": 18,
    "start_time": "2023-02-02T19:53:58.282Z"
   },
   {
    "duration": 3,
    "start_time": "2023-02-02T20:05:09.477Z"
   },
   {
    "duration": 323,
    "start_time": "2023-02-02T20:18:31.324Z"
   },
   {
    "duration": 337,
    "start_time": "2023-02-02T20:18:43.387Z"
   },
   {
    "duration": 3,
    "start_time": "2023-02-02T20:19:40.824Z"
   },
   {
    "duration": 323,
    "start_time": "2023-02-02T20:19:45.782Z"
   },
   {
    "duration": 7,
    "start_time": "2023-02-02T20:20:34.338Z"
   },
   {
    "duration": 11,
    "start_time": "2023-02-02T20:20:34.888Z"
   },
   {
    "duration": 30,
    "start_time": "2023-02-02T20:21:28.026Z"
   },
   {
    "duration": 293,
    "start_time": "2023-02-02T20:24:30.586Z"
   },
   {
    "duration": 772,
    "start_time": "2023-02-03T08:54:34.480Z"
   },
   {
    "duration": 245,
    "start_time": "2023-02-03T08:54:35.254Z"
   },
   {
    "duration": 24,
    "start_time": "2023-02-03T08:54:35.501Z"
   },
   {
    "duration": 28,
    "start_time": "2023-02-03T08:54:35.528Z"
   },
   {
    "duration": 11,
    "start_time": "2023-02-03T08:54:35.558Z"
   },
   {
    "duration": 23,
    "start_time": "2023-02-03T08:54:35.571Z"
   },
   {
    "duration": 20,
    "start_time": "2023-02-03T08:54:35.596Z"
   },
   {
    "duration": 7,
    "start_time": "2023-02-03T08:54:35.619Z"
   },
   {
    "duration": 12,
    "start_time": "2023-02-03T08:54:35.627Z"
   },
   {
    "duration": 3,
    "start_time": "2023-02-03T08:54:35.649Z"
   },
   {
    "duration": 11,
    "start_time": "2023-02-03T08:54:35.654Z"
   },
   {
    "duration": 10,
    "start_time": "2023-02-03T08:54:35.667Z"
   },
   {
    "duration": 290,
    "start_time": "2023-02-03T08:54:35.678Z"
   },
   {
    "duration": 257,
    "start_time": "2023-02-03T08:56:37.446Z"
   },
   {
    "duration": 159,
    "start_time": "2023-02-03T08:57:02.092Z"
   },
   {
    "duration": 178,
    "start_time": "2023-02-03T09:04:34.161Z"
   },
   {
    "duration": 242,
    "start_time": "2023-02-03T09:04:55.726Z"
   },
   {
    "duration": 68,
    "start_time": "2023-02-03T09:05:49.191Z"
   },
   {
    "duration": 64,
    "start_time": "2023-02-03T09:05:52.232Z"
   },
   {
    "duration": 153,
    "start_time": "2023-02-03T09:07:59.473Z"
   },
   {
    "duration": 183,
    "start_time": "2023-02-03T09:09:28.157Z"
   },
   {
    "duration": 171,
    "start_time": "2023-02-03T09:09:39.379Z"
   },
   {
    "duration": 183,
    "start_time": "2023-02-03T09:09:43.016Z"
   },
   {
    "duration": 192,
    "start_time": "2023-02-03T09:13:12.223Z"
   },
   {
    "duration": 387,
    "start_time": "2023-02-03T09:14:42.630Z"
   },
   {
    "duration": 278,
    "start_time": "2023-02-03T09:16:16.848Z"
   },
   {
    "duration": 306,
    "start_time": "2023-02-03T09:17:44.165Z"
   },
   {
    "duration": 265,
    "start_time": "2023-02-03T09:17:57.498Z"
   },
   {
    "duration": 273,
    "start_time": "2023-02-03T09:18:10.212Z"
   },
   {
    "duration": 371,
    "start_time": "2023-02-03T09:18:13.024Z"
   },
   {
    "duration": 136,
    "start_time": "2023-02-03T09:20:49.173Z"
   },
   {
    "duration": 155,
    "start_time": "2023-02-03T09:21:35.660Z"
   },
   {
    "duration": 150,
    "start_time": "2023-02-03T09:23:41.912Z"
   },
   {
    "duration": 153,
    "start_time": "2023-02-03T09:23:49.477Z"
   },
   {
    "duration": 176,
    "start_time": "2023-02-03T09:23:58.082Z"
   },
   {
    "duration": 167,
    "start_time": "2023-02-03T09:24:07.881Z"
   },
   {
    "duration": 256,
    "start_time": "2023-02-03T09:24:15.665Z"
   },
   {
    "duration": 153,
    "start_time": "2023-02-03T09:24:26.383Z"
   },
   {
    "duration": 151,
    "start_time": "2023-02-03T09:24:32.359Z"
   },
   {
    "duration": 378,
    "start_time": "2023-02-03T09:25:35.663Z"
   },
   {
    "duration": 179,
    "start_time": "2023-02-03T09:26:13.426Z"
   },
   {
    "duration": 304,
    "start_time": "2023-02-03T09:26:27.658Z"
   },
   {
    "duration": 157,
    "start_time": "2023-02-03T09:26:40.823Z"
   },
   {
    "duration": 133,
    "start_time": "2023-02-03T09:26:56.784Z"
   },
   {
    "duration": 160,
    "start_time": "2023-02-03T09:27:03.727Z"
   },
   {
    "duration": 166,
    "start_time": "2023-02-03T09:27:32.300Z"
   },
   {
    "duration": 379,
    "start_time": "2023-02-03T09:31:43.920Z"
   },
   {
    "duration": 291,
    "start_time": "2023-02-03T09:32:37.315Z"
   },
   {
    "duration": 258,
    "start_time": "2023-02-03T09:32:50.999Z"
   },
   {
    "duration": 475,
    "start_time": "2023-02-03T09:33:53.852Z"
   },
   {
    "duration": 352,
    "start_time": "2023-02-03T09:34:05.010Z"
   },
   {
    "duration": 314,
    "start_time": "2023-02-03T09:34:35.172Z"
   },
   {
    "duration": 285,
    "start_time": "2023-02-03T09:34:47.675Z"
   },
   {
    "duration": 258,
    "start_time": "2023-02-03T09:35:58.301Z"
   },
   {
    "duration": 295,
    "start_time": "2023-02-03T09:36:36.804Z"
   },
   {
    "duration": 300,
    "start_time": "2023-02-03T09:36:53.666Z"
   },
   {
    "duration": 341,
    "start_time": "2023-02-03T09:37:10.831Z"
   },
   {
    "duration": 301,
    "start_time": "2023-02-03T09:37:26.716Z"
   },
   {
    "duration": 259,
    "start_time": "2023-02-03T09:38:07.991Z"
   },
   {
    "duration": 357,
    "start_time": "2023-02-03T09:38:23.391Z"
   },
   {
    "duration": 289,
    "start_time": "2023-02-03T09:39:52.165Z"
   },
   {
    "duration": 317,
    "start_time": "2023-02-03T09:40:03.641Z"
   },
   {
    "duration": 11,
    "start_time": "2023-02-03T09:45:34.575Z"
   },
   {
    "duration": 8,
    "start_time": "2023-02-03T09:46:05.875Z"
   },
   {
    "duration": 9,
    "start_time": "2023-02-03T09:46:18.706Z"
   },
   {
    "duration": 10,
    "start_time": "2023-02-03T09:46:30.333Z"
   },
   {
    "duration": 11,
    "start_time": "2023-02-03T09:46:36.740Z"
   },
   {
    "duration": 9,
    "start_time": "2023-02-03T09:47:39.415Z"
   },
   {
    "duration": 110,
    "start_time": "2023-02-03T09:48:39.284Z"
   },
   {
    "duration": 95,
    "start_time": "2023-02-03T09:49:34.381Z"
   },
   {
    "duration": 132,
    "start_time": "2023-02-03T09:51:50.568Z"
   },
   {
    "duration": 113,
    "start_time": "2023-02-03T09:51:59.083Z"
   },
   {
    "duration": 114,
    "start_time": "2023-02-03T09:52:38.553Z"
   },
   {
    "duration": 4,
    "start_time": "2023-02-03T09:54:19.759Z"
   },
   {
    "duration": 4,
    "start_time": "2023-02-03T09:54:32.198Z"
   },
   {
    "duration": 4,
    "start_time": "2023-02-03T09:54:42.191Z"
   },
   {
    "duration": 4,
    "start_time": "2023-02-03T09:54:51.773Z"
   },
   {
    "duration": 135,
    "start_time": "2023-02-03T09:59:10.539Z"
   },
   {
    "duration": 124,
    "start_time": "2023-02-03T10:00:35.347Z"
   },
   {
    "duration": 5,
    "start_time": "2023-02-03T10:03:37.502Z"
   },
   {
    "duration": 4,
    "start_time": "2023-02-03T10:04:57.315Z"
   },
   {
    "duration": 114,
    "start_time": "2023-02-03T10:15:24.097Z"
   },
   {
    "duration": 18,
    "start_time": "2023-02-03T10:16:05.101Z"
   },
   {
    "duration": 96,
    "start_time": "2023-02-03T10:17:06.417Z"
   },
   {
    "duration": 198,
    "start_time": "2023-02-03T10:18:00.320Z"
   },
   {
    "duration": 211,
    "start_time": "2023-02-03T10:18:12.231Z"
   },
   {
    "duration": 12,
    "start_time": "2023-02-03T10:19:53.263Z"
   },
   {
    "duration": 401,
    "start_time": "2023-02-03T10:20:51.238Z"
   },
   {
    "duration": 346,
    "start_time": "2023-02-03T10:21:37.911Z"
   },
   {
    "duration": 417,
    "start_time": "2023-02-03T10:23:00.215Z"
   },
   {
    "duration": 364,
    "start_time": "2023-02-03T10:23:05.025Z"
   },
   {
    "duration": 346,
    "start_time": "2023-02-03T10:25:21.442Z"
   },
   {
    "duration": 346,
    "start_time": "2023-02-03T10:25:28.683Z"
   },
   {
    "duration": 332,
    "start_time": "2023-02-03T10:26:15.937Z"
   },
   {
    "duration": 332,
    "start_time": "2023-02-03T10:27:04.305Z"
   },
   {
    "duration": 11,
    "start_time": "2023-02-03T10:31:21.991Z"
   },
   {
    "duration": 331,
    "start_time": "2023-02-03T10:31:47.200Z"
   },
   {
    "duration": 22,
    "start_time": "2023-02-03T10:31:53.454Z"
   },
   {
    "duration": 22,
    "start_time": "2023-02-03T10:32:52.185Z"
   },
   {
    "duration": 10,
    "start_time": "2023-02-03T10:33:08.430Z"
   },
   {
    "duration": 10,
    "start_time": "2023-02-03T10:46:41.671Z"
   },
   {
    "duration": 319,
    "start_time": "2023-02-03T10:49:03.546Z"
   },
   {
    "duration": 9,
    "start_time": "2023-02-03T10:52:09.594Z"
   },
   {
    "duration": 10,
    "start_time": "2023-02-03T10:52:18.530Z"
   },
   {
    "duration": 8,
    "start_time": "2023-02-03T11:06:02.091Z"
   },
   {
    "duration": 22,
    "start_time": "2023-02-03T11:06:29.952Z"
   },
   {
    "duration": 22,
    "start_time": "2023-02-03T11:07:03.465Z"
   },
   {
    "duration": 1223,
    "start_time": "2023-02-03T11:12:11.971Z"
   },
   {
    "duration": 18,
    "start_time": "2023-02-03T11:12:35.364Z"
   },
   {
    "duration": 23,
    "start_time": "2023-02-03T11:13:11.652Z"
   },
   {
    "duration": 168,
    "start_time": "2023-02-03T11:23:24.162Z"
   },
   {
    "duration": 170,
    "start_time": "2023-02-03T11:23:28.746Z"
   },
   {
    "duration": 983,
    "start_time": "2023-02-03T11:23:57.094Z"
   },
   {
    "duration": 122,
    "start_time": "2023-02-03T11:23:58.079Z"
   },
   {
    "duration": 18,
    "start_time": "2023-02-03T11:23:58.203Z"
   },
   {
    "duration": 14,
    "start_time": "2023-02-03T11:23:58.223Z"
   },
   {
    "duration": 4,
    "start_time": "2023-02-03T11:23:58.238Z"
   },
   {
    "duration": 11,
    "start_time": "2023-02-03T11:23:58.244Z"
   },
   {
    "duration": 14,
    "start_time": "2023-02-03T11:23:58.256Z"
   },
   {
    "duration": 3,
    "start_time": "2023-02-03T11:23:58.271Z"
   },
   {
    "duration": 11,
    "start_time": "2023-02-03T11:23:58.275Z"
   },
   {
    "duration": 4,
    "start_time": "2023-02-03T11:23:58.288Z"
   },
   {
    "duration": 11,
    "start_time": "2023-02-03T11:23:58.294Z"
   },
   {
    "duration": 9,
    "start_time": "2023-02-03T11:23:58.307Z"
   },
   {
    "duration": 293,
    "start_time": "2023-02-03T11:23:58.317Z"
   },
   {
    "duration": 244,
    "start_time": "2023-02-03T11:23:58.612Z"
   },
   {
    "duration": 163,
    "start_time": "2023-02-03T11:23:58.858Z"
   },
   {
    "duration": 306,
    "start_time": "2023-02-03T11:23:59.022Z"
   },
   {
    "duration": 176,
    "start_time": "2023-02-03T11:23:59.329Z"
   },
   {
    "duration": 284,
    "start_time": "2023-02-03T11:23:59.507Z"
   },
   {
    "duration": 10,
    "start_time": "2023-02-03T11:23:59.793Z"
   },
   {
    "duration": 137,
    "start_time": "2023-02-03T11:23:59.804Z"
   },
   {
    "duration": 11,
    "start_time": "2023-02-03T11:23:59.942Z"
   },
   {
    "duration": 152,
    "start_time": "2023-02-03T11:23:59.955Z"
   },
   {
    "duration": 4,
    "start_time": "2023-02-03T11:24:00.109Z"
   },
   {
    "duration": 336,
    "start_time": "2023-02-03T11:24:00.115Z"
   },
   {
    "duration": 25,
    "start_time": "2023-02-03T11:24:00.453Z"
   },
   {
    "duration": 11,
    "start_time": "2023-02-03T11:24:00.479Z"
   },
   {
    "duration": 50,
    "start_time": "2023-02-03T11:24:00.492Z"
   },
   {
    "duration": 21,
    "start_time": "2023-02-03T11:24:00.545Z"
   },
   {
    "duration": 26,
    "start_time": "2023-02-03T11:24:00.568Z"
   },
   {
    "duration": 14,
    "start_time": "2023-02-03T11:24:00.596Z"
   },
   {
    "duration": 171,
    "start_time": "2023-02-03T11:52:37.881Z"
   },
   {
    "duration": 1001,
    "start_time": "2023-02-03T11:53:30.363Z"
   },
   {
    "duration": 142,
    "start_time": "2023-02-03T11:53:31.366Z"
   },
   {
    "duration": 19,
    "start_time": "2023-02-03T11:53:31.510Z"
   },
   {
    "duration": 16,
    "start_time": "2023-02-03T11:53:31.531Z"
   },
   {
    "duration": 20,
    "start_time": "2023-02-03T11:53:31.549Z"
   },
   {
    "duration": 26,
    "start_time": "2023-02-03T11:53:31.571Z"
   },
   {
    "duration": 39,
    "start_time": "2023-02-03T11:53:31.599Z"
   },
   {
    "duration": 6,
    "start_time": "2023-02-03T11:53:31.641Z"
   },
   {
    "duration": 37,
    "start_time": "2023-02-03T11:53:31.648Z"
   },
   {
    "duration": 24,
    "start_time": "2023-02-03T11:53:31.688Z"
   },
   {
    "duration": 29,
    "start_time": "2023-02-03T11:53:31.714Z"
   },
   {
    "duration": 18,
    "start_time": "2023-02-03T11:53:31.745Z"
   },
   {
    "duration": 297,
    "start_time": "2023-02-03T11:53:31.765Z"
   },
   {
    "duration": 264,
    "start_time": "2023-02-03T11:53:32.064Z"
   },
   {
    "duration": 185,
    "start_time": "2023-02-03T11:53:32.330Z"
   },
   {
    "duration": 334,
    "start_time": "2023-02-03T11:53:32.516Z"
   },
   {
    "duration": 185,
    "start_time": "2023-02-03T11:53:32.852Z"
   },
   {
    "duration": 320,
    "start_time": "2023-02-03T11:53:33.039Z"
   },
   {
    "duration": 10,
    "start_time": "2023-02-03T11:53:33.361Z"
   },
   {
    "duration": 134,
    "start_time": "2023-02-03T11:53:33.373Z"
   },
   {
    "duration": 4,
    "start_time": "2023-02-03T11:53:33.509Z"
   },
   {
    "duration": 175,
    "start_time": "2023-02-03T11:53:33.515Z"
   },
   {
    "duration": 4,
    "start_time": "2023-02-03T11:53:33.692Z"
   },
   {
    "duration": 463,
    "start_time": "2023-02-03T11:53:33.698Z"
   },
   {
    "duration": 33,
    "start_time": "2023-02-03T11:53:34.164Z"
   },
   {
    "duration": 16,
    "start_time": "2023-02-03T11:53:34.199Z"
   },
   {
    "duration": 34,
    "start_time": "2023-02-03T11:53:34.217Z"
   },
   {
    "duration": 33,
    "start_time": "2023-02-03T11:53:34.255Z"
   },
   {
    "duration": 38,
    "start_time": "2023-02-03T11:53:34.290Z"
   },
   {
    "duration": 23,
    "start_time": "2023-02-03T11:53:34.330Z"
   },
   {
    "duration": 1004,
    "start_time": "2023-02-04T09:35:29.154Z"
   },
   {
    "duration": 138,
    "start_time": "2023-02-04T09:35:30.161Z"
   },
   {
    "duration": 33,
    "start_time": "2023-02-04T09:35:30.300Z"
   },
   {
    "duration": 22,
    "start_time": "2023-02-04T09:35:30.335Z"
   },
   {
    "duration": 29,
    "start_time": "2023-02-04T09:35:30.360Z"
   },
   {
    "duration": 24,
    "start_time": "2023-02-04T09:35:30.390Z"
   },
   {
    "duration": 30,
    "start_time": "2023-02-04T09:35:30.416Z"
   },
   {
    "duration": 12,
    "start_time": "2023-02-04T09:35:30.447Z"
   },
   {
    "duration": 34,
    "start_time": "2023-02-04T09:35:30.461Z"
   },
   {
    "duration": 23,
    "start_time": "2023-02-04T09:35:30.498Z"
   },
   {
    "duration": 36,
    "start_time": "2023-02-04T09:35:30.523Z"
   },
   {
    "duration": 32,
    "start_time": "2023-02-04T09:35:30.561Z"
   },
   {
    "duration": 270,
    "start_time": "2023-02-04T09:35:30.595Z"
   },
   {
    "duration": 261,
    "start_time": "2023-02-04T09:35:30.868Z"
   },
   {
    "duration": 174,
    "start_time": "2023-02-04T09:35:31.131Z"
   },
   {
    "duration": 299,
    "start_time": "2023-02-04T09:35:31.307Z"
   },
   {
    "duration": 189,
    "start_time": "2023-02-04T09:35:31.608Z"
   },
   {
    "duration": 374,
    "start_time": "2023-02-04T09:35:31.800Z"
   },
   {
    "duration": 11,
    "start_time": "2023-02-04T09:35:32.175Z"
   },
   {
    "duration": 136,
    "start_time": "2023-02-04T09:35:32.187Z"
   },
   {
    "duration": 4,
    "start_time": "2023-02-04T09:35:32.330Z"
   },
   {
    "duration": 142,
    "start_time": "2023-02-04T09:35:32.336Z"
   },
   {
    "duration": 3,
    "start_time": "2023-02-04T09:35:32.480Z"
   },
   {
    "duration": 358,
    "start_time": "2023-02-04T09:35:32.485Z"
   },
   {
    "duration": 21,
    "start_time": "2023-02-04T09:35:32.845Z"
   },
   {
    "duration": 10,
    "start_time": "2023-02-04T09:35:32.868Z"
   },
   {
    "duration": 10,
    "start_time": "2023-02-04T09:35:32.880Z"
   },
   {
    "duration": 44,
    "start_time": "2023-02-04T09:35:32.893Z"
   },
   {
    "duration": 27,
    "start_time": "2023-02-04T09:35:32.940Z"
   },
   {
    "duration": 14,
    "start_time": "2023-02-04T09:35:32.968Z"
   },
   {
    "duration": 1134,
    "start_time": "2023-02-04T16:31:57.459Z"
   },
   {
    "duration": 267,
    "start_time": "2023-02-04T16:31:58.595Z"
   },
   {
    "duration": 20,
    "start_time": "2023-02-04T16:31:58.864Z"
   },
   {
    "duration": 14,
    "start_time": "2023-02-04T16:31:58.886Z"
   },
   {
    "duration": 5,
    "start_time": "2023-02-04T16:31:58.901Z"
   },
   {
    "duration": 16,
    "start_time": "2023-02-04T16:31:58.907Z"
   },
   {
    "duration": 14,
    "start_time": "2023-02-04T16:31:58.924Z"
   },
   {
    "duration": 3,
    "start_time": "2023-02-04T16:31:58.940Z"
   },
   {
    "duration": 12,
    "start_time": "2023-02-04T16:31:58.944Z"
   },
   {
    "duration": 6,
    "start_time": "2023-02-04T16:31:58.958Z"
   },
   {
    "duration": 12,
    "start_time": "2023-02-04T16:31:58.965Z"
   },
   {
    "duration": 9,
    "start_time": "2023-02-04T16:31:58.979Z"
   },
   {
    "duration": 285,
    "start_time": "2023-02-04T16:31:58.989Z"
   },
   {
    "duration": 352,
    "start_time": "2023-02-04T16:31:59.276Z"
   },
   {
    "duration": 168,
    "start_time": "2023-02-04T16:31:59.636Z"
   },
   {
    "duration": 363,
    "start_time": "2023-02-04T16:31:59.806Z"
   },
   {
    "duration": 197,
    "start_time": "2023-02-04T16:32:00.171Z"
   },
   {
    "duration": 315,
    "start_time": "2023-02-04T16:32:00.370Z"
   },
   {
    "duration": 12,
    "start_time": "2023-02-04T16:32:00.686Z"
   },
   {
    "duration": 138,
    "start_time": "2023-02-04T16:32:00.699Z"
   },
   {
    "duration": 4,
    "start_time": "2023-02-04T16:32:00.838Z"
   },
   {
    "duration": 141,
    "start_time": "2023-02-04T16:32:00.843Z"
   },
   {
    "duration": 4,
    "start_time": "2023-02-04T16:32:00.986Z"
   },
   {
    "duration": 350,
    "start_time": "2023-02-04T16:32:00.992Z"
   },
   {
    "duration": 21,
    "start_time": "2023-02-04T16:32:01.344Z"
   },
   {
    "duration": 11,
    "start_time": "2023-02-04T16:32:01.367Z"
   },
   {
    "duration": 74,
    "start_time": "2023-02-04T16:32:01.379Z"
   },
   {
    "duration": 17,
    "start_time": "2023-02-04T16:32:01.456Z"
   },
   {
    "duration": 36,
    "start_time": "2023-02-04T16:32:01.474Z"
   },
   {
    "duration": 13,
    "start_time": "2023-02-04T16:32:01.512Z"
   },
   {
    "duration": 176,
    "start_time": "2023-02-04T16:32:35.662Z"
   },
   {
    "duration": 243,
    "start_time": "2023-02-04T16:32:44.143Z"
   },
   {
    "duration": 175,
    "start_time": "2023-02-04T16:33:00.390Z"
   },
   {
    "duration": 287,
    "start_time": "2023-02-04T16:34:03.335Z"
   },
   {
    "duration": 210,
    "start_time": "2023-02-04T16:34:13.216Z"
   },
   {
    "duration": 236,
    "start_time": "2023-02-04T16:34:30.136Z"
   },
   {
    "duration": 198,
    "start_time": "2023-02-04T16:34:51.339Z"
   },
   {
    "duration": 184,
    "start_time": "2023-02-04T16:35:23.112Z"
   },
   {
    "duration": 245,
    "start_time": "2023-02-04T16:35:32.381Z"
   },
   {
    "duration": 201,
    "start_time": "2023-02-04T16:35:35.932Z"
   },
   {
    "duration": 284,
    "start_time": "2023-02-04T16:35:53.859Z"
   },
   {
    "duration": 254,
    "start_time": "2023-02-04T16:36:09.141Z"
   },
   {
    "duration": 346,
    "start_time": "2023-02-04T16:37:11.316Z"
   },
   {
    "duration": 123,
    "start_time": "2023-02-04T16:38:09.678Z"
   },
   {
    "duration": 127,
    "start_time": "2023-02-04T16:38:16.720Z"
   },
   {
    "duration": 341,
    "start_time": "2023-02-04T16:38:31.915Z"
   },
   {
    "duration": 187,
    "start_time": "2023-02-04T16:38:37.883Z"
   },
   {
    "duration": 185,
    "start_time": "2023-02-04T16:38:44.987Z"
   },
   {
    "duration": 189,
    "start_time": "2023-02-04T16:39:03.036Z"
   },
   {
    "duration": 186,
    "start_time": "2023-02-04T16:39:09.424Z"
   },
   {
    "duration": 318,
    "start_time": "2023-02-04T16:39:18.515Z"
   },
   {
    "duration": 292,
    "start_time": "2023-02-04T16:39:27.172Z"
   },
   {
    "duration": 207,
    "start_time": "2023-02-04T16:39:33.145Z"
   },
   {
    "duration": 132,
    "start_time": "2023-02-04T16:39:40.887Z"
   },
   {
    "duration": 22,
    "start_time": "2023-02-04T16:41:02.942Z"
   },
   {
    "duration": 9,
    "start_time": "2023-02-04T16:42:38.248Z"
   },
   {
    "duration": 11,
    "start_time": "2023-02-04T16:48:48.421Z"
   },
   {
    "duration": 759,
    "start_time": "2023-02-04T16:49:41.078Z"
   },
   {
    "duration": 1065,
    "start_time": "2023-02-04T16:49:56.266Z"
   },
   {
    "duration": 117,
    "start_time": "2023-02-04T16:49:57.333Z"
   },
   {
    "duration": 21,
    "start_time": "2023-02-04T16:49:57.452Z"
   },
   {
    "duration": 17,
    "start_time": "2023-02-04T16:49:57.475Z"
   },
   {
    "duration": 5,
    "start_time": "2023-02-04T16:49:57.493Z"
   },
   {
    "duration": 13,
    "start_time": "2023-02-04T16:49:57.500Z"
   },
   {
    "duration": 35,
    "start_time": "2023-02-04T16:49:57.514Z"
   },
   {
    "duration": 5,
    "start_time": "2023-02-04T16:49:57.551Z"
   },
   {
    "duration": 14,
    "start_time": "2023-02-04T16:49:57.558Z"
   },
   {
    "duration": 14,
    "start_time": "2023-02-04T16:49:57.574Z"
   },
   {
    "duration": 10,
    "start_time": "2023-02-04T16:49:57.589Z"
   },
   {
    "duration": 293,
    "start_time": "2023-02-04T16:49:57.600Z"
   },
   {
    "duration": 266,
    "start_time": "2023-02-04T16:49:57.895Z"
   },
   {
    "duration": 189,
    "start_time": "2023-02-04T16:49:58.163Z"
   },
   {
    "duration": 295,
    "start_time": "2023-02-04T16:49:58.353Z"
   },
   {
    "duration": 198,
    "start_time": "2023-02-04T16:49:58.649Z"
   },
   {
    "duration": 307,
    "start_time": "2023-02-04T16:49:58.848Z"
   },
   {
    "duration": 10,
    "start_time": "2023-02-04T16:49:59.156Z"
   },
   {
    "duration": 160,
    "start_time": "2023-02-04T16:49:59.167Z"
   },
   {
    "duration": 10,
    "start_time": "2023-02-04T16:49:59.329Z"
   },
   {
    "duration": 146,
    "start_time": "2023-02-04T16:49:59.341Z"
   },
   {
    "duration": 4,
    "start_time": "2023-02-04T16:49:59.489Z"
   },
   {
    "duration": 350,
    "start_time": "2023-02-04T16:49:59.496Z"
   },
   {
    "duration": 21,
    "start_time": "2023-02-04T16:49:59.847Z"
   },
   {
    "duration": 10,
    "start_time": "2023-02-04T16:49:59.869Z"
   },
   {
    "duration": 8,
    "start_time": "2023-02-04T16:49:59.880Z"
   },
   {
    "duration": 868,
    "start_time": "2023-02-04T16:49:59.890Z"
   },
   {
    "duration": 0,
    "start_time": "2023-02-04T16:50:00.760Z"
   },
   {
    "duration": 0,
    "start_time": "2023-02-04T16:50:00.761Z"
   },
   {
    "duration": 0,
    "start_time": "2023-02-04T16:50:00.762Z"
   },
   {
    "duration": 725,
    "start_time": "2023-02-04T16:50:12.812Z"
   },
   {
    "duration": 5,
    "start_time": "2023-02-04T16:51:33.113Z"
   },
   {
    "duration": 6,
    "start_time": "2023-02-04T16:51:37.683Z"
   },
   {
    "duration": 5,
    "start_time": "2023-02-04T16:51:49.907Z"
   },
   {
    "duration": 5,
    "start_time": "2023-02-04T16:52:12.065Z"
   },
   {
    "duration": 13,
    "start_time": "2023-02-04T16:52:42.432Z"
   },
   {
    "duration": 4,
    "start_time": "2023-02-04T16:53:19.266Z"
   },
   {
    "duration": 5,
    "start_time": "2023-02-04T16:53:31.864Z"
   },
   {
    "duration": 13,
    "start_time": "2023-02-04T16:53:44.215Z"
   },
   {
    "duration": 9,
    "start_time": "2023-02-04T16:56:28.836Z"
   },
   {
    "duration": 8,
    "start_time": "2023-02-04T16:56:38.277Z"
   },
   {
    "duration": 8,
    "start_time": "2023-02-04T16:56:38.683Z"
   },
   {
    "duration": 7,
    "start_time": "2023-02-04T16:56:39.771Z"
   },
   {
    "duration": 8,
    "start_time": "2023-02-04T16:56:41.484Z"
   },
   {
    "duration": 22,
    "start_time": "2023-02-04T16:56:42.263Z"
   },
   {
    "duration": 13,
    "start_time": "2023-02-04T16:56:55.260Z"
   },
   {
    "duration": 18,
    "start_time": "2023-02-04T17:02:52.411Z"
   },
   {
    "duration": 5,
    "start_time": "2023-02-04T17:05:27.864Z"
   },
   {
    "duration": 5,
    "start_time": "2023-02-04T17:06:12.667Z"
   },
   {
    "duration": 5,
    "start_time": "2023-02-04T17:06:21.243Z"
   },
   {
    "duration": 4,
    "start_time": "2023-02-04T17:07:15.365Z"
   },
   {
    "duration": 687,
    "start_time": "2023-02-04T17:08:58.665Z"
   },
   {
    "duration": 4,
    "start_time": "2023-02-04T17:09:08.939Z"
   },
   {
    "duration": 3,
    "start_time": "2023-02-04T17:09:16.435Z"
   },
   {
    "duration": 4,
    "start_time": "2023-02-04T17:09:16.815Z"
   },
   {
    "duration": 3,
    "start_time": "2023-02-04T17:09:18.159Z"
   },
   {
    "duration": 4,
    "start_time": "2023-02-04T17:09:18.790Z"
   },
   {
    "duration": 3,
    "start_time": "2023-02-04T17:09:19.459Z"
   },
   {
    "duration": 4,
    "start_time": "2023-02-04T17:10:03.069Z"
   },
   {
    "duration": 4,
    "start_time": "2023-02-04T17:10:28.319Z"
   },
   {
    "duration": 5,
    "start_time": "2023-02-04T17:10:28.715Z"
   },
   {
    "duration": 8,
    "start_time": "2023-02-04T17:12:22.663Z"
   },
   {
    "duration": 9,
    "start_time": "2023-02-04T17:13:10.084Z"
   },
   {
    "duration": 8,
    "start_time": "2023-02-04T17:13:36.535Z"
   },
   {
    "duration": 6,
    "start_time": "2023-02-04T17:14:37.978Z"
   },
   {
    "duration": 14,
    "start_time": "2023-02-04T17:15:17.635Z"
   },
   {
    "duration": 6,
    "start_time": "2023-02-04T17:15:39.280Z"
   },
   {
    "duration": 6,
    "start_time": "2023-02-04T17:18:37.915Z"
   },
   {
    "duration": 56,
    "start_time": "2023-02-04T17:19:02.261Z"
   },
   {
    "duration": 4,
    "start_time": "2023-02-04T17:19:05.239Z"
   },
   {
    "duration": 4,
    "start_time": "2023-02-04T17:19:23.343Z"
   },
   {
    "duration": 3,
    "start_time": "2023-02-04T17:19:45.223Z"
   },
   {
    "duration": 6,
    "start_time": "2023-02-04T17:22:45.981Z"
   },
   {
    "duration": 5,
    "start_time": "2023-02-04T17:22:57.872Z"
   },
   {
    "duration": 39,
    "start_time": "2023-02-04T17:24:19.356Z"
   },
   {
    "duration": 6,
    "start_time": "2023-02-04T17:24:25.857Z"
   },
   {
    "duration": 5,
    "start_time": "2023-02-04T17:24:26.127Z"
   },
   {
    "duration": 10,
    "start_time": "2023-02-04T17:30:31.427Z"
   },
   {
    "duration": 4,
    "start_time": "2023-02-04T17:31:13.086Z"
   },
   {
    "duration": 4,
    "start_time": "2023-02-04T17:31:16.654Z"
   },
   {
    "duration": 5,
    "start_time": "2023-02-04T17:31:21.389Z"
   },
   {
    "duration": 5,
    "start_time": "2023-02-04T17:31:22.155Z"
   },
   {
    "duration": 6,
    "start_time": "2023-02-04T17:31:26.367Z"
   },
   {
    "duration": 69,
    "start_time": "2023-02-04T23:25:35.208Z"
   },
   {
    "duration": 1298,
    "start_time": "2023-02-04T23:25:43.683Z"
   },
   {
    "duration": 316,
    "start_time": "2023-02-04T23:25:44.983Z"
   },
   {
    "duration": 22,
    "start_time": "2023-02-04T23:25:45.301Z"
   },
   {
    "duration": 22,
    "start_time": "2023-02-04T23:25:45.325Z"
   },
   {
    "duration": 19,
    "start_time": "2023-02-04T23:25:45.349Z"
   },
   {
    "duration": 11,
    "start_time": "2023-02-04T23:25:45.370Z"
   },
   {
    "duration": 18,
    "start_time": "2023-02-04T23:25:45.383Z"
   },
   {
    "duration": 24,
    "start_time": "2023-02-04T23:25:45.403Z"
   },
   {
    "duration": 19,
    "start_time": "2023-02-04T23:25:45.429Z"
   },
   {
    "duration": 12,
    "start_time": "2023-02-04T23:25:45.452Z"
   },
   {
    "duration": 25,
    "start_time": "2023-02-04T23:25:45.466Z"
   },
   {
    "duration": 20,
    "start_time": "2023-02-04T23:25:45.493Z"
   },
   {
    "duration": 26,
    "start_time": "2023-02-04T23:25:45.514Z"
   },
   {
    "duration": 4,
    "start_time": "2023-02-04T23:25:45.542Z"
   },
   {
    "duration": 12,
    "start_time": "2023-02-04T23:25:45.547Z"
   },
   {
    "duration": 11,
    "start_time": "2023-02-04T23:25:45.560Z"
   },
   {
    "duration": 12,
    "start_time": "2023-02-04T23:25:45.572Z"
   },
   {
    "duration": 19,
    "start_time": "2023-02-04T23:25:45.586Z"
   },
   {
    "duration": 24,
    "start_time": "2023-02-04T23:25:45.607Z"
   },
   {
    "duration": 33,
    "start_time": "2023-02-04T23:25:45.633Z"
   },
   {
    "duration": 20,
    "start_time": "2023-02-04T23:25:45.668Z"
   },
   {
    "duration": 19,
    "start_time": "2023-02-04T23:25:45.691Z"
   },
   {
    "duration": 301,
    "start_time": "2023-02-04T23:25:45.712Z"
   },
   {
    "duration": 311,
    "start_time": "2023-02-04T23:25:46.014Z"
   },
   {
    "duration": 229,
    "start_time": "2023-02-04T23:25:46.327Z"
   },
   {
    "duration": 371,
    "start_time": "2023-02-04T23:25:46.559Z"
   },
   {
    "duration": 209,
    "start_time": "2023-02-04T23:25:46.932Z"
   },
   {
    "duration": 339,
    "start_time": "2023-02-04T23:25:47.145Z"
   },
   {
    "duration": 11,
    "start_time": "2023-02-04T23:25:47.486Z"
   },
   {
    "duration": 161,
    "start_time": "2023-02-04T23:25:47.499Z"
   },
   {
    "duration": 4,
    "start_time": "2023-02-04T23:25:47.662Z"
   },
   {
    "duration": 170,
    "start_time": "2023-02-04T23:25:47.668Z"
   },
   {
    "duration": 5,
    "start_time": "2023-02-04T23:25:47.840Z"
   },
   {
    "duration": 409,
    "start_time": "2023-02-04T23:25:47.847Z"
   },
   {
    "duration": 25,
    "start_time": "2023-02-04T23:25:48.258Z"
   },
   {
    "duration": 11,
    "start_time": "2023-02-04T23:25:48.285Z"
   },
   {
    "duration": 14,
    "start_time": "2023-02-04T23:25:48.297Z"
   },
   {
    "duration": 126,
    "start_time": "2023-02-04T23:25:48.313Z"
   },
   {
    "duration": 1,
    "start_time": "2023-02-04T23:25:48.440Z"
   },
   {
    "duration": 9,
    "start_time": "2023-02-04T23:27:56.765Z"
   },
   {
    "duration": 279,
    "start_time": "2023-02-04T23:32:30.636Z"
   },
   {
    "duration": 1023,
    "start_time": "2023-02-04T23:32:45.782Z"
   },
   {
    "duration": 129,
    "start_time": "2023-02-04T23:32:46.807Z"
   },
   {
    "duration": 21,
    "start_time": "2023-02-04T23:32:46.938Z"
   },
   {
    "duration": 18,
    "start_time": "2023-02-04T23:32:46.961Z"
   },
   {
    "duration": 6,
    "start_time": "2023-02-04T23:32:46.981Z"
   },
   {
    "duration": 13,
    "start_time": "2023-02-04T23:32:46.988Z"
   },
   {
    "duration": 9,
    "start_time": "2023-02-04T23:32:47.003Z"
   },
   {
    "duration": 5,
    "start_time": "2023-02-04T23:32:47.038Z"
   },
   {
    "duration": 15,
    "start_time": "2023-02-04T23:32:47.044Z"
   },
   {
    "duration": 14,
    "start_time": "2023-02-04T23:32:47.062Z"
   },
   {
    "duration": 14,
    "start_time": "2023-02-04T23:32:47.077Z"
   },
   {
    "duration": 19,
    "start_time": "2023-02-04T23:32:47.093Z"
   },
   {
    "duration": 8,
    "start_time": "2023-02-04T23:32:47.114Z"
   },
   {
    "duration": 15,
    "start_time": "2023-02-04T23:32:47.123Z"
   },
   {
    "duration": 17,
    "start_time": "2023-02-04T23:32:47.140Z"
   },
   {
    "duration": 29,
    "start_time": "2023-02-04T23:32:47.159Z"
   },
   {
    "duration": 13,
    "start_time": "2023-02-04T23:32:47.190Z"
   },
   {
    "duration": 13,
    "start_time": "2023-02-04T23:32:47.204Z"
   },
   {
    "duration": 14,
    "start_time": "2023-02-04T23:32:47.219Z"
   },
   {
    "duration": 12,
    "start_time": "2023-02-04T23:32:47.235Z"
   },
   {
    "duration": 295,
    "start_time": "2023-02-04T23:32:47.248Z"
   },
   {
    "duration": 294,
    "start_time": "2023-02-04T23:32:47.545Z"
   },
   {
    "duration": 206,
    "start_time": "2023-02-04T23:32:47.841Z"
   },
   {
    "duration": 315,
    "start_time": "2023-02-04T23:32:48.050Z"
   },
   {
    "duration": 197,
    "start_time": "2023-02-04T23:32:48.366Z"
   },
   {
    "duration": 317,
    "start_time": "2023-02-04T23:32:48.565Z"
   },
   {
    "duration": 11,
    "start_time": "2023-02-04T23:32:48.884Z"
   },
   {
    "duration": 155,
    "start_time": "2023-02-04T23:32:48.898Z"
   },
   {
    "duration": 5,
    "start_time": "2023-02-04T23:32:49.055Z"
   },
   {
    "duration": 176,
    "start_time": "2023-02-04T23:32:49.061Z"
   },
   {
    "duration": 5,
    "start_time": "2023-02-04T23:32:49.239Z"
   },
   {
    "duration": 377,
    "start_time": "2023-02-04T23:32:49.246Z"
   },
   {
    "duration": 29,
    "start_time": "2023-02-04T23:32:49.625Z"
   },
   {
    "duration": 11,
    "start_time": "2023-02-04T23:32:49.656Z"
   },
   {
    "duration": 12,
    "start_time": "2023-02-04T23:32:49.669Z"
   },
   {
    "duration": 128,
    "start_time": "2023-02-04T23:32:49.683Z"
   },
   {
    "duration": 0,
    "start_time": "2023-02-04T23:32:49.813Z"
   },
   {
    "duration": 17,
    "start_time": "2023-02-04T23:34:17.841Z"
   },
   {
    "duration": 1197,
    "start_time": "2023-02-04T23:34:38.047Z"
   },
   {
    "duration": 129,
    "start_time": "2023-02-04T23:34:39.246Z"
   },
   {
    "duration": 22,
    "start_time": "2023-02-04T23:34:39.377Z"
   },
   {
    "duration": 20,
    "start_time": "2023-02-04T23:34:39.402Z"
   },
   {
    "duration": 7,
    "start_time": "2023-02-04T23:34:39.424Z"
   },
   {
    "duration": 16,
    "start_time": "2023-02-04T23:34:39.433Z"
   },
   {
    "duration": 11,
    "start_time": "2023-02-04T23:34:39.451Z"
   },
   {
    "duration": 9,
    "start_time": "2023-02-04T23:34:39.463Z"
   },
   {
    "duration": 10,
    "start_time": "2023-02-04T23:34:39.473Z"
   },
   {
    "duration": 16,
    "start_time": "2023-02-04T23:34:39.485Z"
   },
   {
    "duration": 23,
    "start_time": "2023-02-04T23:34:39.502Z"
   },
   {
    "duration": 19,
    "start_time": "2023-02-04T23:34:39.527Z"
   },
   {
    "duration": 11,
    "start_time": "2023-02-04T23:34:39.548Z"
   },
   {
    "duration": 14,
    "start_time": "2023-02-04T23:34:39.560Z"
   },
   {
    "duration": 12,
    "start_time": "2023-02-04T23:34:39.576Z"
   },
   {
    "duration": 8,
    "start_time": "2023-02-04T23:34:39.590Z"
   },
   {
    "duration": 13,
    "start_time": "2023-02-04T23:34:39.600Z"
   },
   {
    "duration": 21,
    "start_time": "2023-02-04T23:34:39.615Z"
   },
   {
    "duration": 19,
    "start_time": "2023-02-04T23:34:39.638Z"
   },
   {
    "duration": 12,
    "start_time": "2023-02-04T23:34:39.659Z"
   },
   {
    "duration": 336,
    "start_time": "2023-02-04T23:34:39.672Z"
   },
   {
    "duration": 322,
    "start_time": "2023-02-04T23:34:40.010Z"
   },
   {
    "duration": 224,
    "start_time": "2023-02-04T23:34:40.334Z"
   },
   {
    "duration": 314,
    "start_time": "2023-02-04T23:34:40.560Z"
   },
   {
    "duration": 224,
    "start_time": "2023-02-04T23:34:40.876Z"
   },
   {
    "duration": 369,
    "start_time": "2023-02-04T23:34:41.101Z"
   },
   {
    "duration": 14,
    "start_time": "2023-02-04T23:34:41.472Z"
   },
   {
    "duration": 169,
    "start_time": "2023-02-04T23:34:41.490Z"
   },
   {
    "duration": 5,
    "start_time": "2023-02-04T23:34:41.660Z"
   },
   {
    "duration": 201,
    "start_time": "2023-02-04T23:34:41.667Z"
   },
   {
    "duration": 5,
    "start_time": "2023-02-04T23:34:41.870Z"
   },
   {
    "duration": 467,
    "start_time": "2023-02-04T23:34:41.877Z"
   },
   {
    "duration": 27,
    "start_time": "2023-02-04T23:34:42.346Z"
   },
   {
    "duration": 10,
    "start_time": "2023-02-04T23:34:42.375Z"
   },
   {
    "duration": 32,
    "start_time": "2023-02-04T23:34:42.388Z"
   },
   {
    "duration": 140,
    "start_time": "2023-02-04T23:34:42.422Z"
   },
   {
    "duration": 0,
    "start_time": "2023-02-04T23:34:42.563Z"
   },
   {
    "duration": 15,
    "start_time": "2023-02-04T23:36:05.824Z"
   },
   {
    "duration": 9,
    "start_time": "2023-02-04T23:36:15.920Z"
   },
   {
    "duration": 15,
    "start_time": "2023-02-04T23:36:24.958Z"
   },
   {
    "duration": 1180,
    "start_time": "2023-02-04T23:41:38.572Z"
   },
   {
    "duration": 13,
    "start_time": "2023-02-04T23:42:07.235Z"
   },
   {
    "duration": 14,
    "start_time": "2023-02-04T23:42:08.710Z"
   },
   {
    "duration": 1067,
    "start_time": "2023-02-04T23:42:28.232Z"
   },
   {
    "duration": 153,
    "start_time": "2023-02-04T23:42:29.302Z"
   },
   {
    "duration": 22,
    "start_time": "2023-02-04T23:42:29.456Z"
   },
   {
    "duration": 20,
    "start_time": "2023-02-04T23:42:29.480Z"
   },
   {
    "duration": 12,
    "start_time": "2023-02-04T23:42:29.502Z"
   },
   {
    "duration": 13,
    "start_time": "2023-02-04T23:42:29.515Z"
   },
   {
    "duration": 25,
    "start_time": "2023-02-04T23:42:29.530Z"
   },
   {
    "duration": 10,
    "start_time": "2023-02-04T23:42:29.557Z"
   },
   {
    "duration": 19,
    "start_time": "2023-02-04T23:42:29.569Z"
   },
   {
    "duration": 17,
    "start_time": "2023-02-04T23:42:29.591Z"
   },
   {
    "duration": 25,
    "start_time": "2023-02-04T23:42:29.610Z"
   },
   {
    "duration": 37,
    "start_time": "2023-02-04T23:42:29.637Z"
   },
   {
    "duration": 4,
    "start_time": "2023-02-04T23:42:29.676Z"
   },
   {
    "duration": 22,
    "start_time": "2023-02-04T23:42:29.681Z"
   },
   {
    "duration": 15,
    "start_time": "2023-02-04T23:42:29.704Z"
   },
   {
    "duration": 31,
    "start_time": "2023-02-04T23:42:29.721Z"
   },
   {
    "duration": 21,
    "start_time": "2023-02-04T23:42:29.754Z"
   },
   {
    "duration": 12,
    "start_time": "2023-02-04T23:42:29.777Z"
   },
   {
    "duration": 13,
    "start_time": "2023-02-04T23:42:29.790Z"
   },
   {
    "duration": 21,
    "start_time": "2023-02-04T23:42:29.805Z"
   },
   {
    "duration": 295,
    "start_time": "2023-02-04T23:42:29.827Z"
   },
   {
    "duration": 300,
    "start_time": "2023-02-04T23:42:30.123Z"
   },
   {
    "duration": 221,
    "start_time": "2023-02-04T23:42:30.426Z"
   },
   {
    "duration": 316,
    "start_time": "2023-02-04T23:42:30.649Z"
   },
   {
    "duration": 215,
    "start_time": "2023-02-04T23:42:30.968Z"
   },
   {
    "duration": 329,
    "start_time": "2023-02-04T23:42:31.186Z"
   },
   {
    "duration": 25,
    "start_time": "2023-02-04T23:42:31.517Z"
   },
   {
    "duration": 149,
    "start_time": "2023-02-04T23:42:31.547Z"
   },
   {
    "duration": 5,
    "start_time": "2023-02-04T23:42:31.697Z"
   },
   {
    "duration": 181,
    "start_time": "2023-02-04T23:42:31.703Z"
   },
   {
    "duration": 4,
    "start_time": "2023-02-04T23:42:31.886Z"
   },
   {
    "duration": 389,
    "start_time": "2023-02-04T23:42:31.892Z"
   },
   {
    "duration": 27,
    "start_time": "2023-02-04T23:42:32.283Z"
   },
   {
    "duration": 142,
    "start_time": "2023-02-04T23:42:32.312Z"
   },
   {
    "duration": 0,
    "start_time": "2023-02-04T23:42:32.457Z"
   },
   {
    "duration": 0,
    "start_time": "2023-02-04T23:42:32.459Z"
   },
   {
    "duration": 1,
    "start_time": "2023-02-04T23:42:32.460Z"
   },
   {
    "duration": 0,
    "start_time": "2023-02-04T23:42:32.462Z"
   },
   {
    "duration": 12,
    "start_time": "2023-02-04T23:43:46.223Z"
   },
   {
    "duration": 13,
    "start_time": "2023-02-04T23:43:49.950Z"
   },
   {
    "duration": 7,
    "start_time": "2023-02-04T23:43:54.898Z"
   },
   {
    "duration": 26,
    "start_time": "2023-02-04T23:43:56.020Z"
   },
   {
    "duration": 1100,
    "start_time": "2023-02-04T23:44:05.955Z"
   },
   {
    "duration": 147,
    "start_time": "2023-02-04T23:44:07.057Z"
   },
   {
    "duration": 20,
    "start_time": "2023-02-04T23:44:07.206Z"
   },
   {
    "duration": 45,
    "start_time": "2023-02-04T23:44:07.228Z"
   },
   {
    "duration": 33,
    "start_time": "2023-02-04T23:44:07.275Z"
   },
   {
    "duration": 58,
    "start_time": "2023-02-04T23:44:07.310Z"
   },
   {
    "duration": 33,
    "start_time": "2023-02-04T23:44:07.370Z"
   },
   {
    "duration": 50,
    "start_time": "2023-02-04T23:44:07.405Z"
   },
   {
    "duration": 43,
    "start_time": "2023-02-04T23:44:07.457Z"
   },
   {
    "duration": 36,
    "start_time": "2023-02-04T23:44:07.503Z"
   },
   {
    "duration": 55,
    "start_time": "2023-02-04T23:44:07.542Z"
   },
   {
    "duration": 65,
    "start_time": "2023-02-04T23:44:07.599Z"
   },
   {
    "duration": 52,
    "start_time": "2023-02-04T23:44:07.665Z"
   },
   {
    "duration": 45,
    "start_time": "2023-02-04T23:44:07.720Z"
   },
   {
    "duration": 39,
    "start_time": "2023-02-04T23:44:07.767Z"
   },
   {
    "duration": 53,
    "start_time": "2023-02-04T23:44:07.808Z"
   },
   {
    "duration": 54,
    "start_time": "2023-02-04T23:44:07.862Z"
   },
   {
    "duration": 61,
    "start_time": "2023-02-04T23:44:07.917Z"
   },
   {
    "duration": 36,
    "start_time": "2023-02-04T23:44:07.980Z"
   },
   {
    "duration": 50,
    "start_time": "2023-02-04T23:44:08.018Z"
   },
   {
    "duration": 330,
    "start_time": "2023-02-04T23:44:08.070Z"
   },
   {
    "duration": 318,
    "start_time": "2023-02-04T23:44:08.402Z"
   },
   {
    "duration": 205,
    "start_time": "2023-02-04T23:44:08.722Z"
   },
   {
    "duration": 333,
    "start_time": "2023-02-04T23:44:08.929Z"
   },
   {
    "duration": 214,
    "start_time": "2023-02-04T23:44:09.263Z"
   },
   {
    "duration": 332,
    "start_time": "2023-02-04T23:44:09.478Z"
   },
   {
    "duration": 12,
    "start_time": "2023-02-04T23:44:09.812Z"
   },
   {
    "duration": 160,
    "start_time": "2023-02-04T23:44:09.837Z"
   },
   {
    "duration": 4,
    "start_time": "2023-02-04T23:44:09.999Z"
   },
   {
    "duration": 169,
    "start_time": "2023-02-04T23:44:10.005Z"
   },
   {
    "duration": 4,
    "start_time": "2023-02-04T23:44:10.176Z"
   },
   {
    "duration": 424,
    "start_time": "2023-02-04T23:44:10.182Z"
   },
   {
    "duration": 34,
    "start_time": "2023-02-04T23:44:10.608Z"
   },
   {
    "duration": 13,
    "start_time": "2023-02-04T23:44:10.644Z"
   },
   {
    "duration": 47,
    "start_time": "2023-02-04T23:44:10.660Z"
   },
   {
    "duration": 13,
    "start_time": "2023-02-04T23:44:10.709Z"
   },
   {
    "duration": 34,
    "start_time": "2023-02-04T23:44:10.723Z"
   },
   {
    "duration": 14,
    "start_time": "2023-02-04T23:44:10.759Z"
   }
  ],
  "kernelspec": {
   "display_name": "Python 3 (ipykernel)",
   "language": "python",
   "name": "python3"
  },
  "language_info": {
   "codemirror_mode": {
    "name": "ipython",
    "version": 3
   },
   "file_extension": ".py",
   "mimetype": "text/x-python",
   "name": "python",
   "nbconvert_exporter": "python",
   "pygments_lexer": "ipython3",
   "version": "3.9.13"
  },
  "toc": {
   "base_numbering": 1,
   "nav_menu": {
    "height": "77px",
    "width": "402px"
   },
   "number_sections": true,
   "sideBar": true,
   "skip_h1_title": true,
   "title_cell": "Оглавление:",
   "title_sidebar": "Contents",
   "toc_cell": true,
   "toc_position": {
    "height": "calc(100% - 180px)",
    "left": "10px",
    "top": "150px",
    "width": "507.594px"
   },
   "toc_section_display": true,
   "toc_window_display": true
  }
 },
 "nbformat": 4,
 "nbformat_minor": 2
}
